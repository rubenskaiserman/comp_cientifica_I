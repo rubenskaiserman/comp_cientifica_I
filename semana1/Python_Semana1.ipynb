{
 "cells": [
  {
   "cell_type": "markdown",
   "id": "271b08e2-803a-4c2c-a891-a1b2011ae619",
   "metadata": {
    "tags": []
   },
   "source": [
    "# Revisão de Python (versão 3)"
   ]
  },
  {
   "cell_type": "markdown",
   "id": "220d2dee-de1c-4c31-b8e6-497c8eb1e600",
   "metadata": {},
   "source": [
    "## O que vamos recordar (aprender?):\n",
    "- Shell Python (IPython) e Jupyter Notebooks (básico)\n",
    "- Números, Variáveis, Comparações e Lógicas\n",
    "- Strings e print formatado\n",
    "- Listas, Tuplas\n",
    "- Loop e Branching\n",
    "- Funções\n"
   ]
  },
  {
   "cell_type": "markdown",
   "id": "c9eff9e5-026d-44fc-b658-285d792bcb5f",
   "metadata": {},
   "source": [
    "***"
   ]
  },
  {
   "cell_type": "markdown",
   "id": "c2913dcb-0e38-468f-a20e-e8c8d9f55837",
   "metadata": {},
   "source": [
    "## 1.1 A linguagem Python"
   ]
  },
  {
   "cell_type": "markdown",
   "id": "65b5d6ce-e9d1-41ad-8e5c-2af623747cbd",
   "metadata": {},
   "source": [
    "Python é uma poderosa linguagem de programação de uso geral desenvolvida por Guido van\n",
    "Rossum em 1989. É classificada como uma linguagem de programação de alto nível, pois lida automaticamente com as operações mais fundamentais (como gerenciamento de memória) executado no nível do processador (“código de máquina”). É considerado uma linguagem de alto-nível do que, por exemplo, C, por causa de sua sintaxe expressiva (que é próxima de linguagem natural em alguns casos) e rica variedade de estruturas de dados nativas, como listas, tuplas, conjuntos e dicionários. \n",
    "\n",
    "Minha versão do Python é"
   ]
  },
  {
   "cell_type": "code",
   "execution_count": 24,
   "id": "b1bfe524-f932-4939-b8ad-12b6cc7686c8",
   "metadata": {
    "colab": {
     "base_uri": "https://localhost:8080/",
     "height": 34
    },
    "id": "1L4Am0QATgOc",
    "outputId": "bb5ee3ac-8683-44ab-e599-a2077510f327"
   },
   "outputs": [
    {
     "name": "stdout",
     "output_type": "stream",
     "text": [
      "/bin/bash: line 1: python: command not found\n"
     ]
    }
   ],
   "source": [
    "!python --version"
   ]
  },
  {
   "cell_type": "markdown",
   "id": "ab2dc2a0-c449-4bfc-bd35-6896c9390fed",
   "metadata": {},
   "source": [
    "O python pode ser encontrado [aqui](https://www.python.org). E a distribuição Anaconda pode ser encontrada [aqui](https://www.anaconda.com/)\n",
    "\n",
    "- Documentação na página do Python\n",
    "\n",
    "Onde executar os comandos?\n",
    "- IPython Shell no Anaconda\n",
    "- Jupyter Notebook no JupyterLab (Células de código e markdown)\n",
    "\n",
    "**DICA IMPORTANTE:** Nesses ambientes a tecla TAB funciona para auto-completar\n",
    "\n",
    "**DICA IMPORTANTE 2:** Documentação legal do Markdown nesse [link](https://www.ibm.com/docs/en/watson-studio-local/1.2.3?topic=notebooks-markdown-jupyter-cheatsheet)"
   ]
  },
  {
   "cell_type": "markdown",
   "id": "5aa7abd5-cfb8-4e99-b596-b6c5a267cf55",
   "metadata": {},
   "source": [
    "## 1.2 O básico do Python"
   ]
  },
  {
   "cell_type": "markdown",
   "id": "c29b4d06-1302-476b-9fe2-48a7b8299a70",
   "metadata": {
    "tags": []
   },
   "source": [
    "### 1.2.1 Tipos de Dados básicos"
   ]
  },
  {
   "cell_type": "markdown",
   "id": "3f01cbc7-8f7d-4a35-a195-141963f1aaa9",
   "metadata": {},
   "source": [
    "#### Tipos Numéricos\n",
    "\n",
    "Podemos trabalhar com números **inteiros** (cujo tamanho máximo depende de quantos *bytes* são usados para armazená-lo na memória do computador)."
   ]
  },
  {
   "cell_type": "code",
   "execution_count": 25,
   "id": "b05acb88-88e1-47a2-9926-3c85cfb26041",
   "metadata": {},
   "outputs": [
    {
     "name": "stdout",
     "output_type": "stream",
     "text": [
      "10 <class 'int'>\n"
     ]
    }
   ],
   "source": [
    "x = 10\n",
    "print(x, type(x))"
   ]
  },
  {
   "cell_type": "markdown",
   "id": "5f09358f-055e-4fd8-9012-15cfeea0bf2a",
   "metadata": {},
   "source": [
    "Perceba que na verdade o tipo `int` é implementado como uma **classe** (mais sobre isso depois). As operações fundamentais são"
   ]
  },
  {
   "cell_type": "code",
   "execution_count": 26,
   "id": "8283be9e-3be2-42c0-8252-ed6d61b94b39",
   "metadata": {},
   "outputs": [
    {
     "name": "stdout",
     "output_type": "stream",
     "text": [
      "11\n",
      "9\n",
      "20\n",
      "100\n"
     ]
    }
   ],
   "source": [
    "print(x + 1)  \n",
    "print(x - 1)   \n",
    "print(x * 2)\n",
    "print(x ** 2) #Potencia"
   ]
  },
  {
   "cell_type": "code",
   "execution_count": 27,
   "id": "a4ea8b62-656f-48e9-aa10-0b3ea1220d79",
   "metadata": {
    "tags": []
   },
   "outputs": [],
   "source": [
    "#É importante usar comentários no código, para isso usamos o jogo da velha #\n",
    "#Comentários não são executados como comando"
   ]
  },
  {
   "cell_type": "code",
   "execution_count": 28,
   "id": "548717cb-7c61-416d-9a5a-b8d5c29e9a00",
   "metadata": {
    "tags": []
   },
   "outputs": [
    {
     "name": "stdout",
     "output_type": "stream",
     "text": [
      "299792458101\n"
     ]
    }
   ],
   "source": [
    "#Numeros muito grandes para facilitar a leitura podemos usar _ para separar\n",
    "big = 299_792_458_101\n",
    "print(big)"
   ]
  },
  {
   "cell_type": "markdown",
   "id": "089c38d6-30f7-43cf-a61e-05a9619b59f7",
   "metadata": {},
   "source": [
    "Porém nem só de inteiros vivem a matemática e a computação (e as Aplicações). Os números **reais** são representados pelos chamados **números em ponto flutuante** (*floating-point number*), tipo `float`. "
   ]
  },
  {
   "cell_type": "code",
   "execution_count": 29,
   "id": "0470ea6a-9dd8-4c0c-9205-3d03b28ccc2f",
   "metadata": {
    "colab": {
     "base_uri": "https://localhost:8080/",
     "height": 52
    },
    "id": "w-nZ0Sg_L9e9",
    "outputId": "3aa579f8-9540-46ef-935e-be887781ecb4"
   },
   "outputs": [
    {
     "name": "stdout",
     "output_type": "stream",
     "text": [
      "<class 'float'>\n",
      "9.99e-05 1.0000999 0.0001998 9.98001e-09\n",
      "5e-07\n"
     ]
    }
   ],
   "source": [
    "#y = 10.0\n",
    "#y = 0.0001\n",
    "y = 0.0000999\n",
    "peq = 0.5e-6\n",
    "print(type(y))\n",
    "print(y, y + 1, y * 2, y ** 2)\n",
    "print(peq)"
   ]
  },
  {
   "cell_type": "markdown",
   "id": "868372df-1c70-45e9-92c2-0ee6fbe9510d",
   "metadata": {},
   "source": [
    "Temos também o tipo `complex` para trabalhar com números complexos"
   ]
  },
  {
   "cell_type": "code",
   "execution_count": 30,
   "id": "e1512144-e831-40c3-9915-fe19e83c693e",
   "metadata": {
    "tags": []
   },
   "outputs": [
    {
     "name": "stdout",
     "output_type": "stream",
     "text": [
      "<class 'complex'>\n",
      "2.23606797749979\n",
      "(-1+0j)\n",
      "3.5\n"
     ]
    }
   ],
   "source": [
    "c = 1.0 + 2.0j\n",
    "print(type(c))\n",
    "\n",
    "print(abs(c))\n",
    "print(1.0j*1.0j)\n",
    "print(abs(-3.5))"
   ]
  },
  {
   "cell_type": "code",
   "execution_count": 31,
   "id": "82fbe342-25de-4940-b2d8-e4c01646307b",
   "metadata": {
    "tags": []
   },
   "outputs": [
    {
     "name": "stdout",
     "output_type": "stream",
     "text": [
      "1.0\n",
      "2.0\n",
      "(1-2j)\n"
     ]
    }
   ],
   "source": [
    "# Atributos e Métodos de números (como exemplo dos complexos)\n",
    "print(c.real)\n",
    "print(c.imag)\n",
    "print(c.conjugate())\n",
    "\n",
    "#Porque eu uso print?"
   ]
  },
  {
   "cell_type": "code",
   "execution_count": 32,
   "id": "2e9de174-fc05-41d0-b333-aba8098d0973",
   "metadata": {
    "tags": []
   },
   "outputs": [
    {
     "name": "stdout",
     "output_type": "stream",
     "text": [
      "\u001b[0;31mSignature:\u001b[0m \u001b[0mabs\u001b[0m\u001b[0;34m(\u001b[0m\u001b[0mx\u001b[0m\u001b[0;34m,\u001b[0m \u001b[0;34m/\u001b[0m\u001b[0;34m)\u001b[0m\u001b[0;34m\u001b[0m\u001b[0;34m\u001b[0m\u001b[0m\n",
      "\u001b[0;31mDocstring:\u001b[0m Return the absolute value of the argument.\n",
      "\u001b[0;31mType:\u001b[0m      builtin_function_or_method"
     ]
    }
   ],
   "source": [
    "#Como tirar dúvidas? Nem sempre é imediato entender, mas com o tempo vamos melhorando\n",
    "abs?\n",
    "#type?"
   ]
  },
  {
   "cell_type": "markdown",
   "id": "5a19cf43-ad79-4d47-8b6b-b01b536263cb",
   "metadata": {},
   "source": [
    "#### Operações Aritméticas Básicas dos Tipos Numéricos"
   ]
  },
  {
   "cell_type": "markdown",
   "id": "e36f8ce2-3ad6-48e2-a13c-64957de14a62",
   "metadata": {},
   "source": [
    "````\n",
    "+ Addition \n",
    "- Subtraction\n",
    "* Multiplication\n",
    "/ Floating-point division\n",
    "// Integer division\n",
    "% Modulus (remainder)\n",
    "** Exponentiation\n",
    "````"
   ]
  },
  {
   "cell_type": "markdown",
   "id": "aa3828dc-de46-4e71-93dd-989bbd35d607",
   "metadata": {
    "tags": []
   },
   "source": [
    "#### Exercício\n",
    "> Crie uma nova célula abaixo e teste as operações **Divisão Inteira** e **Módulo**, e procure na Web sobre a precendência dos operadores."
   ]
  },
  {
   "cell_type": "markdown",
   "id": "31d1845d-16a1-48ce-b140-36ac8048bc8c",
   "metadata": {},
   "source": [
    "#### Exemplo (necessidade de importar pacotes para aumentar as funcionalidades)"
   ]
  },
  {
   "cell_type": "code",
   "execution_count": 33,
   "id": "86193de2-9452-48c9-9070-5496857f13b0",
   "metadata": {
    "tags": []
   },
   "outputs": [
    {
     "name": "stdout",
     "output_type": "stream",
     "text": [
      "4.63511081571606\n"
     ]
    }
   ],
   "source": [
    "import math\n",
    "#Exemplo Formula de Heron\n",
    "a = 4.503\n",
    "b = 2.377\n",
    "c = 3.902\n",
    "s = (a + b + c) / 2\n",
    "area = math.sqrt(s * (s - a) * (s - b) * (s - c))\n",
    "print(area)"
   ]
  },
  {
   "cell_type": "markdown",
   "id": "eff9a89d-38c7-4ed8-ac4b-257043827467",
   "metadata": {},
   "source": [
    "#### Tipo Booleano"
   ]
  },
  {
   "cell_type": "markdown",
   "id": "225e3801-6272-4607-9b0a-42f1066b2f26",
   "metadata": {},
   "source": [
    "Além do tipo booleano que assume valores **True** ou **False**, o Python oferece os operadores lógicos **not**, **and** e **or**"
   ]
  },
  {
   "cell_type": "code",
   "execution_count": 34,
   "id": "4b23c45b-8c30-4ae5-9dd4-2fb2b1c5c400",
   "metadata": {},
   "outputs": [
    {
     "name": "stdout",
     "output_type": "stream",
     "text": [
      "<class 'bool'>\n",
      "False\n",
      "True\n",
      "False\n",
      "True\n"
     ]
    }
   ],
   "source": [
    "t, f = True, False\n",
    "print(type(t))\n",
    "print(t and f) # Logical AND;\n",
    "print(t or f)  # Logical OR;\n",
    "print(not t)   # Logical NOT;\n",
    "print(t != f)  # Logical XOR;"
   ]
  },
  {
   "cell_type": "markdown",
   "id": "c40c5385-4106-44e3-9849-b9d818d965f6",
   "metadata": {},
   "source": [
    "Podemos criar também sentenças lógicas que serão valoradas e atribuídas a um tipo booleano."
   ]
  },
  {
   "cell_type": "code",
   "execution_count": 35,
   "id": "c14b0c3a-08f9-4378-81b3-cf3fff8a7367",
   "metadata": {},
   "outputs": [
    {
     "name": "stdout",
     "output_type": "stream",
     "text": [
      "<class 'bool'>\n",
      "True\n",
      "True\n",
      "False\n",
      "True\n"
     ]
    }
   ],
   "source": [
    "state1 = (2 < 3)\n",
    "print(type(state1))\n",
    "print(state1)\n",
    "print(2 != 3) #not equal\n",
    "print(2 == 3) #equal\n",
    "print(2 == 2.0) #Objects of different types, except different numeric types, never compare equal."
   ]
  },
  {
   "cell_type": "markdown",
   "id": "36d4fda6-c01a-4db6-b8bd-b7b735baf7d9",
   "metadata": {},
   "source": [
    "#### Operadores de Comparação"
   ]
  },
  {
   "cell_type": "markdown",
   "id": "31a8788c-2989-48b6-ba1d-fa6863a7b809",
   "metadata": {},
   "source": [
    "````\n",
    "== Equal to\n",
    "!= Not equal to\n",
    "> Greater than\n",
    "< Less than\n",
    ">= Greater than or equal to\n",
    "<= Less than or equal to\n",
    "````"
   ]
  },
  {
   "cell_type": "markdown",
   "id": "0b18e1a6-7bfd-4d95-9220-8966f6ca6735",
   "metadata": {},
   "source": [
    "<div class=\"alert alert-block alert-danger\">\n",
    "Deve-se tomar cuidado ao <b>comparar</b> números de ponto flutuante para igualdade\n",
    "</div>"
   ]
  },
  {
   "cell_type": "code",
   "execution_count": 36,
   "id": "6267b50f-7b26-4930-860c-fc334742b4f6",
   "metadata": {
    "tags": []
   },
   "outputs": [
    {
     "name": "stdout",
     "output_type": "stream",
     "text": [
      "False\n",
      "0.01\n",
      "0.010000000000000002\n"
     ]
    }
   ],
   "source": [
    "a = 0.01\n",
    "b = 0.1**2\n",
    "print(a == b)\n",
    "print(a)\n",
    "print(b)"
   ]
  },
  {
   "cell_type": "code",
   "execution_count": 37,
   "id": "ea31f7fc-2fe4-454f-9ba8-3742a698f41b",
   "metadata": {
    "tags": []
   },
   "outputs": [
    {
     "data": {
      "text/plain": [
       "<function math.isclose(a, b, *, rel_tol=1e-09, abs_tol=0.0)>"
      ]
     },
     "execution_count": 37,
     "metadata": {},
     "output_type": "execute_result"
    }
   ],
   "source": [
    "import math\n",
    "math.isclose(a,b)\n",
    "math.isclose"
   ]
  },
  {
   "cell_type": "markdown",
   "id": "8da311b1-ed72-4912-ba24-4d508c2e952a",
   "metadata": {},
   "source": [
    "### 1.2.2 Strings (Text Sequence Type)"
   ]
  },
  {
   "cell_type": "markdown",
   "id": "24c797b1-6f2d-468c-b16e-787a4d1ac6c4",
   "metadata": {},
   "source": [
    "Strings são um tipo de dados sequencial (*sequence type*) especial. Porém enquanto sequência é caracterizada como **immutable**, ou seja, você não pode modificar por atribuição (como as tuplas que veremos abaixo).  "
   ]
  },
  {
   "cell_type": "code",
   "execution_count": 38,
   "id": "1b26015a-6728-449a-9cc6-dd6369c2d313",
   "metadata": {},
   "outputs": [
    {
     "name": "stdout",
     "output_type": "stream",
     "text": [
      "hello 5\n"
     ]
    }
   ],
   "source": [
    "hello = 'hello'   # String literals can use single quotes\n",
    "world = \"world\"   # or double quotes; it does not matter\n",
    "print(hello, len(hello))"
   ]
  },
  {
   "cell_type": "code",
   "execution_count": 39,
   "id": "b3f2bc7d-4de0-457f-82dc-e7a5f9f48afa",
   "metadata": {},
   "outputs": [
    {
     "name": "stdout",
     "output_type": "stream",
     "text": [
      "hello world\n"
     ]
    }
   ],
   "source": [
    "hw = hello + ' ' + world  # String concatenation\n",
    "print(hw)"
   ]
  },
  {
   "cell_type": "markdown",
   "id": "04e09470-40ad-4990-9a6d-aac97fb70562",
   "metadata": {},
   "source": [
    "Quando a `string` é muito grande usamos o caracter de continuação de linha \"\\\\\""
   ]
  },
  {
   "cell_type": "code",
   "execution_count": 40,
   "id": "dd55dd96-e3e1-4b6c-b8c4-11b12e50ea6b",
   "metadata": {
    "tags": []
   },
   "outputs": [
    {
     "name": "stdout",
     "output_type": "stream",
     "text": [
      "Lorem ipsum dolor sit amet. Nam consequuntur delectus ut porro atque eum ipsa minima et iste quia. Qui placeat assumenda et consectetur odio et voluptatem reprehenderit.\n"
     ]
    }
   ],
   "source": [
    "long_string = 'Lorem ipsum dolor sit amet. ' \\\n",
    "'Nam consequuntur delectus ut porro atque eum ipsa minima et iste quia. ' \\\n",
    "'Qui placeat assumenda et consectetur odio et voluptatem reprehenderit.' \n",
    "\n",
    "print(long_string)"
   ]
  },
  {
   "cell_type": "markdown",
   "id": "dba8ae63-76c9-4e97-b9a7-f7e313c67450",
   "metadata": {},
   "source": [
    "O operador * pode ser usado para repetição"
   ]
  },
  {
   "cell_type": "code",
   "execution_count": 41,
   "id": "0d96e07b-0003-4105-bae3-871040f66829",
   "metadata": {
    "tags": []
   },
   "outputs": [
    {
     "name": "stdout",
     "output_type": "stream",
     "text": [
      "--o----o----o----o----o----o----o----o----o----o--\n"
     ]
    }
   ],
   "source": [
    "reptition = '--o--' * 10\n",
    "\n",
    "print(reptition)"
   ]
  },
  {
   "cell_type": "markdown",
   "id": "0754656b-02cd-40ee-bb65-54ed5c64027a",
   "metadata": {},
   "source": [
    "A função *str* (*built-in*) converte um objeto passado como argumento para uma string "
   ]
  },
  {
   "cell_type": "code",
   "execution_count": 42,
   "id": "71f9aed4-6e26-4602-9e1a-4be346856ad5",
   "metadata": {
    "tags": []
   },
   "outputs": [
    {
     "name": "stdout",
     "output_type": "stream",
     "text": [
      "100201 <class 'str'>\n",
      "31415000.0 <class 'str'>\n"
     ]
    }
   ],
   "source": [
    "str_int = str(100_201)\n",
    "str_float = str(3.1415e7)\n",
    "\n",
    "print(str_int, type(str_int))\n",
    "print(str_float, type(str_float))"
   ]
  },
  {
   "cell_type": "markdown",
   "id": "4dc0cf32-9a65-4fff-8dd9-67b9c48d03eb",
   "metadata": {},
   "source": [
    "#### Indexação e *Slicing* de Strings"
   ]
  },
  {
   "cell_type": "code",
   "execution_count": 43,
   "id": "77f70672-2d40-4103-9b4b-fc2ba5595633",
   "metadata": {},
   "outputs": [],
   "source": [
    "string1 = 'Adriano'"
   ]
  },
  {
   "cell_type": "code",
   "execution_count": 44,
   "id": "aae31795-15a3-4bf8-bff8-46ad46e4e92b",
   "metadata": {
    "tags": []
   },
   "outputs": [
    {
     "data": {
      "text/plain": [
       "'r'"
      ]
     },
     "execution_count": 44,
     "metadata": {},
     "output_type": "execute_result"
    }
   ],
   "source": [
    "string1[2]"
   ]
  },
  {
   "cell_type": "code",
   "execution_count": 45,
   "id": "efcc9b65-58f8-4ea1-b95f-c75b275ab096",
   "metadata": {},
   "outputs": [],
   "source": [
    "# string1[2] = 'R' #isso que quer dizer ser imutavel "
   ]
  },
  {
   "cell_type": "code",
   "execution_count": 46,
   "id": "15085790-24cc-44d0-8421-9ec89040182d",
   "metadata": {
    "tags": []
   },
   "outputs": [
    {
     "name": "stdout",
     "output_type": "stream",
     "text": [
      "rian\n"
     ]
    },
    {
     "data": {
      "text/plain": [
       "4"
      ]
     },
     "execution_count": 46,
     "metadata": {},
     "output_type": "execute_result"
    }
   ],
   "source": [
    "#print(string1[0:4])  \n",
    "#print(string1[4:])\n",
    "#print(string1[:4])\n",
    "\n",
    "#str[i:j] o indice j fica de fora, a vantagem disso é que substring tem tamanho j-i\n",
    "print(string1[2:6])\n",
    "len(string1[2:6])"
   ]
  },
  {
   "cell_type": "markdown",
   "id": "decf020e-9b69-456c-af55-96f11304b236",
   "metadata": {},
   "source": [
    "#### Principais Métodos da Classe `string`"
   ]
  },
  {
   "cell_type": "markdown",
   "id": "954d9abb-ac8a-46b9-a934-0f802731f16d",
   "metadata": {},
   "source": [
    "Alguns métodos úteis da classe `string` são:"
   ]
  },
  {
   "cell_type": "code",
   "execution_count": 47,
   "id": "f6907fba-c550-4710-9ccd-c56e23e64582",
   "metadata": {},
   "outputs": [
    {
     "name": "stdout",
     "output_type": "stream",
     "text": [
      "Hello\n",
      "HELLO\n",
      "  hello\n",
      " hello \n",
      "he(ell)(ell)o\n"
     ]
    }
   ],
   "source": [
    "s = \"hello\"\n",
    "print(s.capitalize())  # Capitalize a string\n",
    "print(s.upper())       # Convert a string to uppercase; prints \"HELLO\"\n",
    "print(s.rjust(7))      # Right-justify a string, padding with spaces\n",
    "print(s.center(7))     # Center a string, padding with spaces\n",
    "print(s.replace('l', '(ell)'))  # Replace all instances of one substring with another"
   ]
  },
  {
   "cell_type": "code",
   "execution_count": 48,
   "id": "94351f57-5a1d-4c50-afda-7701e701be3a",
   "metadata": {
    "tags": []
   },
   "outputs": [
    {
     "name": "stdout",
     "output_type": "stream",
     "text": [
      "    java python c++ fortran    \n",
      "java python c++ fortran\n"
     ]
    }
   ],
   "source": [
    "lang = '    java python c++ fortran    '\n",
    "lang_strip = lang.strip()\n",
    "print(lang)\n",
    "print(lang_strip)  # Strip leading and trailing whitespace"
   ]
  },
  {
   "cell_type": "code",
   "execution_count": 49,
   "id": "dfaf5d4b-bc76-4d95-bf0d-f372c542cf18",
   "metadata": {
    "tags": []
   },
   "outputs": [
    {
     "name": "stdout",
     "output_type": "stream",
     "text": [
      "['java', 'python', 'c++', 'fortran']\n"
     ]
    },
    {
     "data": {
      "text/plain": [
       "list"
      ]
     },
     "execution_count": 49,
     "metadata": {},
     "output_type": "execute_result"
    }
   ],
   "source": [
    "lang_split = lang.split()\n",
    "print(lang_split)\n",
    "type(lang_split)"
   ]
  },
  {
   "cell_type": "markdown",
   "id": "4a4a1c6c-605a-4fef-b88e-6008fa3d143c",
   "metadata": {},
   "source": [
    "#### A função `print` e a formatação de strings"
   ]
  },
  {
   "cell_type": "markdown",
   "id": "f1ce42e2-866e-4f76-99ae-21303d12037e",
   "metadata": {},
   "source": [
    "Já temos usado extensivamente até aqui, mas ainda não falamos dela especificamente. Um exemplo mais vitaminado:"
   ]
  },
  {
   "cell_type": "code",
   "execution_count": 50,
   "id": "6b9fcc16-d3d5-4b96-8eb8-5a0ac7166e08",
   "metadata": {
    "tags": []
   },
   "outputs": [
    {
     "name": "stdout",
     "output_type": "stream",
     "text": [
      "+-----------------------------+\n",
      "| Index of Dutch Tulip Prices |\n",
      "+-----------------------------+\n",
      "|    Nov 23 1636 |        100 |\n",
      "|    Nov 25 1636 |        673 |\n",
      "|    Feb  1 1637 |       1366 |\n",
      "+-----------------------------+\n"
     ]
    }
   ],
   "source": [
    "heading = '| Index of Dutch Tulip Prices |'\n",
    "line = '+' + '-'*16 + '-'*13 + '+'\n",
    "print(line, heading, line,\n",
    "     '|    Nov 23 1636 |        100 |',\n",
    "     '|    Nov 25 1636 |        673 |',\n",
    "     '|    Feb  1 1637 |       1366 |', line, sep='\\n')"
   ]
  },
  {
   "cell_type": "markdown",
   "id": "b366eea4-d818-467f-97a8-a51326a4adf8",
   "metadata": {},
   "source": [
    "A classe `string` possui o método `format`, importante para impressão formatada: "
   ]
  },
  {
   "cell_type": "code",
   "execution_count": 51,
   "id": "7ca6003d-8df3-4f4d-90af-e16426a8b58d",
   "metadata": {},
   "outputs": [
    {
     "name": "stdout",
     "output_type": "stream",
     "text": [
      "hello world, aqui o pi=3.14159265359 aproximado.\n",
      "hello world, aqui o pi=3.14159265359 aproximado.\n",
      "hello world, aqui o pi=3.1416 aproximado.\n"
     ]
    }
   ],
   "source": [
    "#Note que o metodo retorna uma nova string (objeto do tipo str)\n",
    "pi = 3.14159265359\n",
    "frase = \"{} {}, aqui o pi={} aproximado.\".format(hello,world,pi)\n",
    "print(frase)\n",
    "frase2 = \"{2} {1}, aqui o pi={0} aproximado.\".format(pi,world,hello)\n",
    "print(frase2)\n",
    "frase3 = \"{2} {1}, aqui o pi={0:1.4f} aproximado.\".format(pi,world,hello)\n",
    "print(frase3)"
   ]
  },
  {
   "cell_type": "markdown",
   "id": "9a6a6bbb-cbde-4877-b77f-90e232b2bbc7",
   "metadata": {},
   "source": [
    "Além de números podemos usar nomes como identificadores do *replacement field*"
   ]
  },
  {
   "cell_type": "code",
   "execution_count": 52,
   "id": "900b7ce6-c762-4fb4-87b9-2ceafe9f35ac",
   "metadata": {
    "tags": []
   },
   "outputs": [
    {
     "data": {
      "text/plain": [
       "'2 + 3 = CINCO'"
      ]
     },
     "execution_count": 52,
     "metadata": {},
     "output_type": "execute_result"
    }
   ],
   "source": [
    "'{num1} + {num2} = {resultado}'.format(num1=2, num2=3, resultado='CINCO')"
   ]
  },
  {
   "cell_type": "markdown",
   "id": "16b90d7b-c396-48c3-b2eb-846053c1a5c9",
   "metadata": {},
   "source": [
    "#### Exercício\n",
    "\n",
    "> Print a tabela verdade dos operadores **AND**, **OR** e **XOR**"
   ]
  },
  {
   "cell_type": "markdown",
   "id": "fc6f2d6a-23aa-40a5-9af5-c964946258df",
   "metadata": {},
   "source": [
    "### 1.2.3 Containers"
   ]
  },
  {
   "cell_type": "markdown",
   "id": "bcbbdf22-d428-48c5-93ff-ac18bb7100db",
   "metadata": {},
   "source": [
    "#### Listas (Mutable Sequence type)"
   ]
  },
  {
   "cell_type": "markdown",
   "id": "86e55bd7-59c3-4f4e-81d5-96f9d03d602b",
   "metadata": {},
   "source": [
    "Listas são equivalentes a arrays em Python, e guardam um lista ordenada de objetos, porém podem ter seu tamanho alterado a qualquer momento, assim como seus elementos (**mutable sequence**)."
   ]
  },
  {
   "cell_type": "code",
   "execution_count": 53,
   "id": "81f6e4a7-9a10-44a6-b6e6-d45c514210a6",
   "metadata": {},
   "outputs": [
    {
     "name": "stdout",
     "output_type": "stream",
     "text": [
      "[4, 3, 1, 2] 9.0\n"
     ]
    }
   ],
   "source": [
    "lst1 = [4,3,1,2]\n",
    "lst2 = [9.0,8.0,7.0]\n",
    "print(lst1, lst2[0])"
   ]
  },
  {
   "cell_type": "code",
   "execution_count": 54,
   "id": "f8ce931e-0807-42e2-a55f-6a4cf531bef5",
   "metadata": {},
   "outputs": [
    {
     "name": "stdout",
     "output_type": "stream",
     "text": [
      "[4, 9.0, 1, 2]\n",
      "False\n"
     ]
    }
   ],
   "source": [
    "lst1[1] = 9.0 #Observe que aqui misturamos tipo na lista (tente lst1[1] = 'NOVE')\n",
    "print(lst1)\n",
    "print(3 in lst1) #Operador in"
   ]
  },
  {
   "cell_type": "markdown",
   "id": "051dd639-4898-4755-815b-eb8f5e53e200",
   "metadata": {},
   "source": [
    "Inclusive os elementos de uma lista pode também ser uma lista"
   ]
  },
  {
   "cell_type": "code",
   "execution_count": 55,
   "id": "147f91e4-214d-4e6b-bc36-e9511ea2f581",
   "metadata": {
    "tags": []
   },
   "outputs": [
    {
     "name": "stdout",
     "output_type": "stream",
     "text": [
      "[[1, 2], [3, 4], [5, 6, 7]]\n"
     ]
    }
   ],
   "source": [
    "lst3 = [[1,2],[3,4],[5,6,7]]\n",
    "print(lst3)"
   ]
  },
  {
   "cell_type": "markdown",
   "id": "4351ee46-b490-49a3-a391-cd625674a230",
   "metadata": {},
   "source": [
    "#### Indexação e *Slicing* de Listas"
   ]
  },
  {
   "cell_type": "code",
   "execution_count": 56,
   "id": "226af0a3-4825-4bca-8b5d-42903e61e9f4",
   "metadata": {
    "tags": []
   },
   "outputs": [
    {
     "name": "stdout",
     "output_type": "stream",
     "text": [
      "[3, 4]\n",
      "6\n",
      "[6, 7]\n"
     ]
    }
   ],
   "source": [
    "print(lst3[1])\n",
    "print(lst3[2][1])\n",
    "print(lst3[2][1:])"
   ]
  },
  {
   "cell_type": "code",
   "execution_count": 57,
   "id": "dbd2b7e1-f75a-43f4-914e-5e6cdcbaff42",
   "metadata": {
    "tags": []
   },
   "outputs": [
    {
     "name": "stdout",
     "output_type": "stream",
     "text": [
      "\u001b[0;31mInit signature:\u001b[0m \u001b[0mrange\u001b[0m\u001b[0;34m(\u001b[0m\u001b[0mself\u001b[0m\u001b[0;34m,\u001b[0m \u001b[0;34m/\u001b[0m\u001b[0;34m,\u001b[0m \u001b[0;34m*\u001b[0m\u001b[0margs\u001b[0m\u001b[0;34m,\u001b[0m \u001b[0;34m**\u001b[0m\u001b[0mkwargs\u001b[0m\u001b[0;34m)\u001b[0m\u001b[0;34m\u001b[0m\u001b[0;34m\u001b[0m\u001b[0m\n",
      "\u001b[0;31mDocstring:\u001b[0m     \n",
      "range(stop) -> range object\n",
      "range(start, stop[, step]) -> range object\n",
      "\n",
      "Return an object that produces a sequence of integers from start (inclusive)\n",
      "to stop (exclusive) by step.  range(i, j) produces i, i+1, i+2, ..., j-1.\n",
      "start defaults to 0, and stop is omitted!  range(4) produces 0, 1, 2, 3.\n",
      "These are exactly the valid indices for a list of 4 elements.\n",
      "When step is given, it specifies the increment (or decrement).\n",
      "\u001b[0;31mType:\u001b[0m           type\n",
      "\u001b[0;31mSubclasses:\u001b[0m     "
     ]
    }
   ],
   "source": [
    "range?\n",
    "\n",
    "#Funciona também SHIFT+TAB na célula"
   ]
  },
  {
   "cell_type": "code",
   "execution_count": 58,
   "id": "e9f95e1c-79ba-4bec-be5f-137a80aa1fc5",
   "metadata": {},
   "outputs": [
    {
     "name": "stdout",
     "output_type": "stream",
     "text": [
      "[0, 1, 2, 3, 4]\n",
      "[2, 3]\n",
      "[2, 3, 4]\n",
      "[0, 1]\n",
      "[0, 1, 2, 3, 4]\n",
      "[0, 1, 2, 3]\n",
      "[0, 1, 8, 9, 4]\n"
     ]
    }
   ],
   "source": [
    "nums = list(range(5))    \n",
    "print(nums)              \n",
    "print(nums[2:4])   \n",
    "print(nums[2:])     \n",
    "print(nums[:2])    \n",
    "print(nums[:])      \n",
    "print(nums[:-1])    \n",
    "nums[2:4] = [8, 9]  \n",
    "print(nums)         # Prints \"[0, 1, 8, 9, 4]\""
   ]
  },
  {
   "cell_type": "markdown",
   "id": "d75b46df-956c-4e1e-b2cb-0e80951fdcdc",
   "metadata": {},
   "source": [
    "#### Alguns métodos da Classe `list`"
   ]
  },
  {
   "cell_type": "code",
   "execution_count": 59,
   "id": "8ec971eb-541d-48c0-89a2-2b6d60c80364",
   "metadata": {},
   "outputs": [
    {
     "name": "stdout",
     "output_type": "stream",
     "text": [
      "[4, 9.0, 1, 2, 9.0, 8.0, 7.0, 10] 8\n",
      "[4, 9.0, 1, 9.0, 8.0, 7.0, 10] 7\n",
      "[1, 4, 7.0, 8.0, 9.0, 9.0, 10]\n",
      "[10, 9.0, 9.0, 8.0, 7.0, 4, 1]\n"
     ]
    }
   ],
   "source": [
    "lst = lst1 + lst2\n",
    "lst.append(10)\n",
    "print(lst, len(lst))\n",
    "del lst[3]\n",
    "print(lst, len(lst))\n",
    "lst.sort()\n",
    "print(lst)\n",
    "lst.reverse()\n",
    "print(lst)\n",
    "\n",
    "#Note que por seu um objeto mutable os metodos são in-place, ou seja, \n",
    "#modificam o proprio objeto e não criam uma nova copia"
   ]
  },
  {
   "cell_type": "markdown",
   "id": "51271f29-c1cb-438c-942f-8766a6f9f13e",
   "metadata": {},
   "source": [
    "Mais informações no [tutorial](https://docs.python.org/3.11/tutorial/datastructures.html#more-on-lists) e na [documentacao](https://docs.python.org/3.11/library/stdtypes.html#sequence-types-list-tuple-range). \n",
    "\n",
    "Poderíamos em princípio usar listas para trabalhar com vetores, porém é significativamente ineficiente, por isso precisamos do `numpy`."
   ]
  },
  {
   "cell_type": "markdown",
   "id": "f588d8c3-7d52-4e06-a2b2-e8a7887db2e2",
   "metadata": {},
   "source": [
    "#### List Comprehensions"
   ]
  },
  {
   "cell_type": "markdown",
   "id": "77b93ab7-0258-4c36-b219-4cf57ecc3c5b",
   "metadata": {},
   "source": [
    "De acordo com a documentação:\n",
    "\n",
    "> List comprehensions provide a concise way to create lists. Common applications are to make new lists where each element is the result of some operations applied to each member of another sequence or iterable, or to create a subsequence of those elements that satisfy a certain condition."
   ]
  },
  {
   "cell_type": "code",
   "execution_count": 60,
   "id": "2d843320-0b3c-4da7-bcb9-1bbe20e9829d",
   "metadata": {},
   "outputs": [
    {
     "name": "stdout",
     "output_type": "stream",
     "text": [
      "[0, 1, 4, 9, 16]\n"
     ]
    }
   ],
   "source": [
    "## NOT IDEAL WAY\n",
    "nums = [0, 1, 2, 3, 4]\n",
    "squares = []\n",
    "for x in nums:\n",
    "    squares.append(x ** 2)\n",
    "print(squares)"
   ]
  },
  {
   "cell_type": "code",
   "execution_count": 61,
   "id": "f34a044d-a5af-4694-9c60-dc61607d5ca9",
   "metadata": {},
   "outputs": [
    {
     "name": "stdout",
     "output_type": "stream",
     "text": [
      "[0, 1, 4, 9, 16]\n"
     ]
    }
   ],
   "source": [
    "## MUCH BETTER\n",
    "squares = [x ** 2 for x in nums]\n",
    "print(squares)"
   ]
  },
  {
   "cell_type": "code",
   "execution_count": 62,
   "id": "9d28fc49-b85f-4782-8cdc-abf5d5740d0a",
   "metadata": {},
   "outputs": [
    {
     "name": "stdout",
     "output_type": "stream",
     "text": [
      "[0, 4, 16]\n"
     ]
    }
   ],
   "source": [
    "## CAN ALSO USE CONDITIONALS\n",
    "nums = [0, 1, 2, 3, 4]\n",
    "even_squares = [x ** 2 for x in nums if x % 2 == 0]\n",
    "print(even_squares)"
   ]
  },
  {
   "cell_type": "markdown",
   "id": "0a67f551-a5d6-4a94-a1d8-4e016f7f8984",
   "metadata": {
    "tags": []
   },
   "source": [
    "#### Tuplas (Immutable Sequence type)"
   ]
  },
  {
   "cell_type": "markdown",
   "id": "14881dec-5ec9-4514-982c-c33afde33c7e",
   "metadata": {},
   "source": [
    "Tuplas podem ser pensadas como listas imutáveis, e assim como listas pode guardar tipos diferentes de objetos."
   ]
  },
  {
   "cell_type": "code",
   "execution_count": 63,
   "id": "dfab67fa-22e0-4fba-9b31-b0a33c6aeb8d",
   "metadata": {},
   "outputs": [
    {
     "name": "stdout",
     "output_type": "stream",
     "text": [
      "<class 'tuple'>\n",
      "(1, 2, 3) 3\n",
      "(1, 2, 3, 9.0, 8.0, 7.0) 6\n"
     ]
    }
   ],
   "source": [
    "tpl1 = (1, 2, 3)\n",
    "tpl2 = (9.0,8.0,7.0)\n",
    "print(type(tpl1))\n",
    "tpl = tpl1 + tpl2\n",
    "print(tpl1, len(tpl1))\n",
    "print(tpl, len(tpl))"
   ]
  },
  {
   "cell_type": "code",
   "execution_count": 64,
   "id": "8270daf9-d232-40af-a9f9-664535fdbaad",
   "metadata": {},
   "outputs": [
    {
     "ename": "TypeError",
     "evalue": "'tuple' object does not support item assignment",
     "output_type": "error",
     "traceback": [
      "\u001b[0;31m---------------------------------------------------------------------------\u001b[0m",
      "\u001b[0;31mTypeError\u001b[0m                                 Traceback (most recent call last)",
      "Cell \u001b[0;32mIn[64], line 1\u001b[0m\n\u001b[0;32m----> 1\u001b[0m \u001b[43mtpl\u001b[49m\u001b[43m[\u001b[49m\u001b[38;5;241;43m3\u001b[39;49m\u001b[43m]\u001b[49m \u001b[38;5;241m=\u001b[39m \u001b[38;5;241m4\u001b[39m \u001b[38;5;66;03m#Nao vai rolar.\u001b[39;00m\n",
      "\u001b[0;31mTypeError\u001b[0m: 'tuple' object does not support item assignment"
     ]
    }
   ],
   "source": [
    "# tpl[3] = 4 #Nao vai rolar."
   ]
  },
  {
   "cell_type": "markdown",
   "id": "64338779-ae67-4b21-ae03-f7e4a7f07200",
   "metadata": {
    "tags": []
   },
   "source": [
    "#### Loops (objetos iteráveis)"
   ]
  },
  {
   "cell_type": "markdown",
   "id": "23f53ddd-45a2-406b-b2d7-31cbf92d55b6",
   "metadata": {},
   "source": [
    "Um loop pode ser implementado iterando-se por um tipo sequencia (*sequence type*), isto é, uma lista, uma tupla, etc. "
   ]
  },
  {
   "cell_type": "code",
   "execution_count": null,
   "id": "6939fd26-1f0b-4e3c-9f5b-52fa53e66920",
   "metadata": {},
   "outputs": [],
   "source": [
    "lista = [0,1,2,3,4,5]\n",
    "for num in lista:\n",
    "    print(num)"
   ]
  },
  {
   "cell_type": "code",
   "execution_count": null,
   "id": "a3f6db7b-684f-4114-bd9d-82fa1427e523",
   "metadata": {},
   "outputs": [],
   "source": [
    "tupla = (0,1,2,3,4,5)\n",
    "for num in tupla:\n",
    "    print(num)"
   ]
  },
  {
   "cell_type": "code",
   "execution_count": null,
   "id": "5f6d718a-45db-4b22-9cf9-116cb822b3c1",
   "metadata": {},
   "outputs": [],
   "source": [
    "lista_grande = list(range(100))\n",
    "for num in lista_grande:\n",
    "    if num % 20 == 0:\n",
    "        print(num)"
   ]
  },
  {
   "cell_type": "markdown",
   "id": "059c14be-4209-4941-80d3-8d1f3cbc153c",
   "metadata": {},
   "source": [
    "A construção acima apesar de funcionar, ela não é eficiente pois se o intuito for apenas iterar por umas sequência de inteiros, bastaria usar apenas o `range`, uma vez que a construção acima irá alocar memória para armazenar a lista, enquanto que o objeto `range` não."
   ]
  },
  {
   "cell_type": "code",
   "execution_count": null,
   "id": "b6dba099-575b-4fcd-be9b-6ffa97e7b59c",
   "metadata": {},
   "outputs": [],
   "source": [
    "idxs_grande = range(100)\n",
    "for num in idxs_grande:\n",
    "    if num % 20 == 0:\n",
    "        print(num)"
   ]
  },
  {
   "cell_type": "markdown",
   "id": "34460e02-cf3b-4f52-968f-7fbd53fa6ad3",
   "metadata": {},
   "source": [
    "Algumas funções interessantes usadas em loops são `enumerate` e `zip`"
   ]
  },
  {
   "cell_type": "code",
   "execution_count": null,
   "id": "2f642023-1a1f-4634-a2d4-380221e178e2",
   "metadata": {},
   "outputs": [],
   "source": [
    "string = 'Alg. Lin.'  #Strings também são Sequence Types\n",
    "for idx, char in enumerate(string):\n",
    "    print('#{}: {}'.format(idx,char))\n",
    "\n",
    "enumerate\n",
    "# Inspecione o que a funcao zip faz com SHIFT + TAB\n",
    "#zip"
   ]
  },
  {
   "cell_type": "markdown",
   "id": "b0453303-537f-40be-b8c3-4768cbb449a6",
   "metadata": {},
   "source": [
    "### 1.2.3 Funções (Functions)"
   ]
  },
  {
   "cell_type": "markdown",
   "id": "42cd357d-9d24-4cc6-9ca5-3f4c7d09286a",
   "metadata": {},
   "source": [
    "Funções em Python são definidas usando-se a palavra reservada `def`. Funções podem retornar valores usando-se a palavra reservada `return`. Além disso, funções também recebem parâmetros, e precisamos entender como esses parâmetros são vistos/tratados dentro de uma função. Nesse [link](https://www.geeksforgeeks.org/is-python-call-by-reference-or-call-by-value/?ref=lbp) há uma discussão muito boa sobre esse assunto. Comecemos com um exemplo mais simples."
   ]
  },
  {
   "cell_type": "code",
   "execution_count": null,
   "id": "57bf0195-2c4a-47fc-9f6b-efd9bbb381cd",
   "metadata": {},
   "outputs": [],
   "source": [
    "def sign(x):\n",
    "    if x > 0:\n",
    "        return 'positive'\n",
    "    elif x < 0:\n",
    "        return 'negative'\n",
    "    else:\n",
    "        return 'zero'\n",
    "\n",
    "for x in [-1, 0, 1]:\n",
    "    print(sign(x))"
   ]
  },
  {
   "cell_type": "code",
   "execution_count": null,
   "id": "4244bfd2-f76a-4c3d-814e-168e01cb8680",
   "metadata": {
    "tags": []
   },
   "outputs": [],
   "source": [
    "import math \n",
    "def roots(a, b, c):\n",
    "    \"\"\"Retorna as raízes da equação quadrática ax^2+bx+c.\"\"\"\n",
    "    d = b**2 - 4*a*c \n",
    "    r1 = (-b + math.sqrt(d)) / (2*a) \n",
    "    r2 = (-b - math.sqrt(d)) / (2*a)\n",
    "    return r1, r2 \n",
    "\n",
    "print(roots(1., -1., -6.))\n",
    "\n",
    "#Na função acima criamos o que é chamado de Docstring, que é um texto que documenta a função\n",
    "help(roots)\n",
    "\n",
    "#A docstring fica armazenado no atributo __doc__ da função\n",
    "print(roots.__doc__)"
   ]
  },
  {
   "cell_type": "code",
   "execution_count": null,
   "id": "3c49e4e2-2c0e-4552-8888-ad1a54f8f7eb",
   "metadata": {},
   "outputs": [],
   "source": [
    "#Argumento default (e opcionais)\n",
    "def hello(name, loud=False):\n",
    "    if loud:\n",
    "        print('HELLO, {}'.format(name.upper()))\n",
    "    else:\n",
    "        print('Hello, {}!'.format(name))\n",
    "\n",
    "hello('Bob')\n",
    "hello('Fred', loud=True)"
   ]
  },
  {
   "cell_type": "code",
   "execution_count": null,
   "id": "60be0e90-a4a9-4693-a971-6a578dea0955",
   "metadata": {},
   "outputs": [],
   "source": [
    "# Python code to demonstrate\n",
    "# call by value\n",
    " \n",
    "word = \"Geeks\"\n",
    "\n",
    "def test(string):\n",
    "    print(\"Antes da Atribuicao:\", string)\n",
    "    string = \"GeeksforGeeks\"\n",
    "    print(\"Inside Function:\", string)\n",
    "     \n",
    "# Driver's code\n",
    "test(word)\n",
    "print(\"Outside Function:\", word)\n",
    "\n",
    "# MOTIVO: Strings sao imutáveis "
   ]
  },
  {
   "cell_type": "code",
   "execution_count": null,
   "id": "c5d196a2-db80-4e9c-ae8a-e65daedc29e3",
   "metadata": {},
   "outputs": [],
   "source": [
    "# Python code to demonstrate\n",
    "# call by reference\n",
    "\n",
    "def add_more(list):\n",
    "    print(\"Antes do append:\", list)\n",
    "    list.append(50)\n",
    "    print(\"Inside Function\", list)\n",
    "\n",
    "# Driver's code\n",
    "mylist = [10,20,30,40]\n",
    "\n",
    "add_more(mylist)\n",
    "print(\"Outside Function:\", mylist)\n",
    "\n",
    "# MOTIVO: Listas sao mutáveis"
   ]
  }
 ],
 "metadata": {
  "kernelspec": {
   "display_name": "Python 3 (ipykernel)",
   "language": "python",
   "name": "python3"
  },
  "language_info": {
   "codemirror_mode": {
    "name": "ipython",
    "version": 3
   },
   "file_extension": ".py",
   "mimetype": "text/x-python",
   "name": "python",
   "nbconvert_exporter": "python",
   "pygments_lexer": "ipython3",
   "version": "3.10.12"
  }
 },
 "nbformat": 4,
 "nbformat_minor": 5
}
