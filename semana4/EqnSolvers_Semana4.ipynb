{
 "cells": [
  {
   "cell_type": "markdown",
   "id": "a9e491bb-7dba-48ba-8f98-5998bdeec037",
   "metadata": {},
   "source": [
    "# Resolvendo Equações Não-lineares (Achando raízes)"
   ]
  },
  {
   "cell_type": "markdown",
   "id": "826be527-2e2b-4d36-9f40-8df618b1186c",
   "metadata": {},
   "source": [
    "Nosso problema aqui é resolver equações da forma $$f(x) = 0, $$ isto é, achar uma solução (raiz) $\\bar{x}$ tal que $f(\\bar{x})=0$ (note que podemos ter mais de uma solução). A hipótese mínima que pediremos de $f$ é que ela seja contínua no intervalo considerado. Nesse caso, as vezes é importante fazermos uma análise inicial para localizar possíveis intervalos que contém a solução (raiz).\n",
    "\n",
    "Por exemplo, considerando da função $f(x) = x^3 - 12x + 5$, calculando sua derivada, achando os pontos críticos e os intervalos de crescimento e descrescimento, podemos chegar a conclusão que as estão em $[-4,-3]$, $[0,1]$ e $[3,4]$.\n",
    "\n",
    "Outra opção interessante é transformar o problema $f(x)=0$, em $F(x) = G(x)$, e encontrar os pontos onde os gráficos de $F$ e $G$ (possivelmente mais simples de se esboçar) se cruzam. No exemplo anterior podemos tomar $F(x) = x^3$ e $G(x) = 12x-5$."
   ]
  },
  {
   "cell_type": "markdown",
   "id": "03015d8b-f304-47d5-af00-ecae1d667993",
   "metadata": {},
   "source": [
    "## Método da Bissecção "
   ]
  },
  {
   "cell_type": "markdown",
   "id": "c620114a-0f62-40a5-a418-54cb3ff2e8d9",
   "metadata": {},
   "source": [
    "A ideia é construir uma sequência de pontos $x_0$, $x_1$, $x_2$, $\\ldots$ de tal forma que $\\lim_{k \\to \\infty} x_k = \\bar{x}$, onde $\\bar{x}$ é uma solução de $f(x) = 0$. Uma explicação das etapas utilizadas na construção da sequência é a seguinte:\n",
    "\n",
    "- **Passo 0**: Para começar, é necessário encontrar $a_0$ e $b_0$ de modo que $f(a_0)f(b_0) < 0$. Os dois pontos são rotulados de modo que $a_0 < b_0$. Com isso, você considera $x_0$ como o ponto médio do intervalo. Então, $x_0 = (a_0 + b_0)/2$. (Achar $a_0$ e $b_0$ é na inspeção, a garantia da existência da raiz vem do TVI).\n",
    "\n",
    "- **Passo 1**: Se $f(x_0) \\neq 0$, então determine qual metade do intervalo contém uma solução. Portanto, se $f(a_0)f(x_0) < 0$, então o novo intervalo contendo a raiz é $a_1 = a_0$ e $b_1 = x_0$. Caso contrário, considere $a_1 = x_0$ e $b_1 = b_0$. Com isso, tome $x_1 = (b_1 + a_1)/2$.\n",
    "\n",
    "- **Passo 2**: Se $f(x_1) \\neq 0$, basta refazer o procedimento de subdivisão usado no **passo 1**.\n",
    "\n",
    "- Os próximos passos repetem o procedimento acima.\n",
    "\n",
    "Consideremos como ilustração o exemplo $f(x) = (x - 0.1)(x - 2.1)(x + 1.1)$."
   ]
  },
  {
   "cell_type": "code",
   "execution_count": 1,
   "id": "e96e4c3b-77cb-45ef-8bea-ac66641dec96",
   "metadata": {
    "tags": []
   },
   "outputs": [],
   "source": [
    "import numpy as np\n",
    "import matplotlib.pyplot as plt"
   ]
  },
  {
   "cell_type": "code",
   "execution_count": null,
   "id": "e6ca0f79-b839-4e7d-9bef-c5d9ad62fec9",
   "metadata": {
    "tags": []
   },
   "outputs": [],
   "source": [
    "f = lambda x:  (x - 0.1)*(x - 2.1)*(x + 1.1)\n",
    "\n",
    "nplot = 200\n",
    "a = -2\n",
    "b = 3\n",
    " \n",
    "x = np.linspace(a,b,nplot)\n",
    "y = f(x)\n",
    "\n",
    "plt.plot(x,y)\n",
    "plt.xticks(np.arange(a, b+1, 1.0))\n",
    "plt.xlim(a,b)\n",
    "plt.xlabel('x')\n",
    "plt.ylabel('y')\n",
    "plt.grid()\n",
    "plt.show()"
   ]
  },
  {
   "cell_type": "markdown",
   "id": "7223c7c9-be44-4665-8df5-c307b6a77e28",
   "metadata": {},
   "source": [
    "Porém ainda não falamos como interromper o procedimento acima. Para isso precisamos de um **critério de parada**. Podemos usar o erro entre iterações sucessivas $|x_k - x_{k-1}|$ ou o erro **relativo** entre iterações sucessivas $\\dfrac{|x_k - x_{k-1}|}{|x_k|}$ (assumindo $x_k \\neq 0$), ou ainda verificar se $|f(x_k)|$ é pequeno. Em termos de pseudo-código temos\n",
    "\n",
    "\n",
    "**Entrada**: $a < b$ com $f(a)f(b) < 0$ e $eps_1 > 0$ (tolerância erro iterativo) e $eps_2 > 0$ (tolerância da raiz).\n",
    "\n",
    "**Inicialização:** $x = (a + b)/2$, $err_1 = 10*eps_1$\n",
    "\n",
    "**Iteração:**\n",
    "    \n",
    "    \n",
    "    while err_1 > eps_1 or |f(x)| > eps_2\n",
    "        if f(a)f(x) < 0, then b = x \n",
    "            else if f(b)f(x) < 0, then a = x \n",
    "            else stop \n",
    "        end \n",
    "        X = x \n",
    "        x = (a + b)/2\n",
    "        f(x)\n",
    "        err_1 = |x − X|/|x| \n",
    "    fim"
   ]
  },
  {
   "cell_type": "code",
   "execution_count": null,
   "id": "46216f2d-13da-468e-a4ad-307a0d7a34e1",
   "metadata": {
    "tags": []
   },
   "outputs": [],
   "source": [
    "def bisection(f, a, b, eps1=1e-4, eps2=1e-4, debug=False):\n",
    "    \n",
    "    f_a = f(a)\n",
    "    f_b = f(b)\n",
    "    x_M = (a + b)/2.0\n",
    "    f_M = f(x_M)\n",
    "    \n",
    "    err1 = 10.*eps1\n",
    "    iteration_counter = 1\n",
    "\n",
    "    while ((err1 > eps1) and (abs(f_M) > eps2)):\n",
    "        \n",
    "        if debug:\n",
    "            print('Erro rel. iteração {:2d} = {:.8e},  |f(x_M)| = {:.8e}'.format(iteration_counter,err1,abs(f_M)))\n",
    "            \n",
    "        if f_a*f_M < 0:\n",
    "            b = x_M\n",
    "            f_b = f_M\n",
    "        else:\n",
    "            a = x_M\n",
    "            f_a = f_M\n",
    "        \n",
    "        Xprev   = x_M    \n",
    "        x_M = (a + b)/2\n",
    "        f_M = f(x_M)\n",
    "        err1 = abs((x_M - Xprev)/x_M)\n",
    "        iteration_counter = iteration_counter + 1\n",
    "    \n",
    "    if debug:\n",
    "            print('Erro rel. iteração {:2d} = {:.8e},  |f(x_M)| = {:.8e}'.format(iteration_counter,err1,abs(f_M)))\n",
    "            \n",
    "    return x_M, iteration_counter"
   ]
  },
  {
   "cell_type": "code",
   "execution_count": null,
   "id": "4c52da20-1477-4ec9-935a-b9c9c4bc26eb",
   "metadata": {
    "tags": []
   },
   "outputs": [],
   "source": [
    "sol, count = bisection(f,-1.5,2.5,eps1=1e-5,eps2=1e-10,debug=True)"
   ]
  },
  {
   "cell_type": "code",
   "execution_count": null,
   "id": "876b74d4-6c5e-4d06-966d-e992ad73e332",
   "metadata": {
    "tags": []
   },
   "outputs": [],
   "source": [
    "print('Solução: {:g}'.format(sol))\n",
    "print('Número de Iterações: {:d}'.format(count))"
   ]
  },
  {
   "cell_type": "code",
   "execution_count": null,
   "id": "ba4bf285-756b-4c1f-a9a3-c26c2de45ae3",
   "metadata": {
    "tags": []
   },
   "outputs": [],
   "source": [
    "raiz = 2.1\n",
    "erro = abs(sol - raiz)\n",
    "erro_rel = erro/abs(raiz)\n",
    "print('Erro absoluto = {:.6e}'.format(erro))\n",
    "print('Erro relativo = {:.6e}'.format(erro_rel))"
   ]
  },
  {
   "cell_type": "markdown",
   "id": "e366c62f-4783-4c4f-8b37-a6883d1ea6ae",
   "metadata": {},
   "source": [
    "<div class=\"alert alert-block alert-info\">\n",
    "Tanto o erro (absoluto) quanto o erro relativo são usados, mas o erro relativo tem a vantagem de ser baseado em um valor <b>normalizado</b>. Para explicar, considere o requisito de que a solução computada satisfaça $|x_{ex} − x_{ap}| < 0.1$ versus satisfazendo $|x_{ex} − x_{ap}|/|x_{ex}| < 0.1$. Se $x_{ex} = 10^{−8}$, então usando o erro (absoluto) você aceitaria $x_{ap} = 10^{−2}$, mesmo que este seja um fator $10^6$ maior que a solução. Com o erro relativo, você não aceitaria $x_{ap} = 10^{−2}$, mas aceitaria qualquer valor que satisfizesse $0.9 < |x_{ap}/x_{ex}| < 1.1$.\n",
    "    \n",
    "O outro aspecto útil do erro relativo é que ele tem uma conexão com o número de dígitos significativos corretos, e isso será explicado mais tarde.\n",
    "</div>"
   ]
  },
  {
   "cell_type": "markdown",
   "id": "c3d76ce9-b3d8-4c92-9d38-12f47f2d0948",
   "metadata": {},
   "source": [
    "### Convergência do Método"
   ]
  },
  {
   "cell_type": "markdown",
   "id": "5f9c352e-d542-4739-b357-7af08e4ae0b0",
   "metadata": {},
   "source": [
    "**Teorema**\n",
    "\n",
    "Se $f \\in C[a_0, b_0]$, com $f(a_0)f(b_0) < 0$, então os pontos médios $x_0, x_1, x_2, \\ldots$ calculados usando o método da bissecção convergem para uma solução $\\bar{x}$ de $f(x) = 0$. Além disso, o erro satisfaz\n",
    "$$\n",
    "|x_k - \\bar{x}| \\leq \\dfrac{1}{2^{k+1}} (b_0 - a_0),\n",
    "$$\n",
    "e o erro da iteração é \n",
    "$$\n",
    "|x_k - x_{k-1}| = \\dfrac{1}{2^{k+1}} (b_0 - a_0).\n",
    "$$\n",
    "\n",
    "**Ou seja, o método da bissecção nos permite saber o número de iterações necessárias para atingirmos uma determinada tolerância.** "
   ]
  },
  {
   "cell_type": "markdown",
   "id": "2dccbd29-9368-4cf3-b72f-8110ec0d748b",
   "metadata": {},
   "source": [
    "### Ordem de Convergência (Definição)\n",
    "\n",
    "Suponha que a sequência $\\{x_k\\}$ seja convergente, isto é, $\\lim_{k \\to \\infty} x_k= \\bar{x}$, e seja $e_k$ o erro da aproximação, isto é, $e_k = |x_k - \\bar{x}|$. Uma vez que $x_k$ está numa vizinhança de $\\bar{x}$ (ou seja, está próximo de $\\bar{x}$), se $$e_k \\approx C e_{k-1}^r \\quad (\\star),$$ onde $C > 0$ é uma constante, então dizemos que a **ordem de convergência** é $r$."
   ]
  },
  {
   "cell_type": "markdown",
   "id": "0f052a60-c761-4a81-b90c-a7a01dea1577",
   "metadata": {},
   "source": [
    "<div class=\"alert alert-block alert-info\">\n",
    "É possível provar (veja se consegue argumentar isso) que se a ordem de convergência é $r$, e $\\bar{x} \\neq 0$, então o erro relativo $\\dfrac{|x_k - \\bar{x}|}{|\\bar{x}|}$ e o erro relativo da iteração $\\dfrac{|x_k - x_{k-1}|}{|x_k|}$ também satisfaz $(\\star)$, porém tipicamente com uma constante $C$ diferente em cada caso.\n",
    "</div>"
   ]
  },
  {
   "cell_type": "markdown",
   "id": "d4aa0013-fee6-45f6-b772-b9aaaf03dad4",
   "metadata": {},
   "source": [
    "O método da bissecção satisfaz $e_k \\approx \\dfrac{1}{2} e_{k-1}$, portanto ele é um método de primeira ordem pois tem $r = 1$. Veremos em seguida dois outro método com taxas melhores, por exemplo o método de Newton é de segunda ordem, ou seja, $r=2$ (também dito, ordem de convergência quadrática).\n",
    "\n",
    "Faça o seguinte exercício. Suponha $C=1/2$, se $e_1 = 10^{-1}$, e calcule $e_4$ (aproximadamente) para ambos métodos, ou seja, com $r=1$ e $r=2$."
   ]
  },
  {
   "cell_type": "markdown",
   "id": "90e7c1b3-0236-40c3-99a8-68758e19863a",
   "metadata": {},
   "source": [
    "## Método de Newton"
   ]
  },
  {
   "cell_type": "markdown",
   "id": "f15ddcfb-14f4-47ec-b7f2-9d725ceaef51",
   "metadata": {},
   "source": [
    "Dado $x_0$, consideremos as iterações\n",
    "$$\n",
    "x_k = x_{k-1} - \\dfrac{f(x_{k-1})}{f'(x_{k-1})},\n",
    "$$\n",
    "para $k = 1, 2, 3, \\ldots$."
   ]
  },
  {
   "cell_type": "code",
   "execution_count": 2,
   "id": "894ab7f8-afc2-4fe5-b77c-fe6920fed68f",
   "metadata": {},
   "outputs": [],
   "source": [
    "def naive_Newton(f, dfdx, x, eps, debug=False): \n",
    "    while abs(f(x)) > eps: \n",
    "        x = x - (f(x))/dfdx(x)\n",
    "        if debug:\n",
    "            print(x)\n",
    "    return x"
   ]
  },
  {
   "cell_type": "code",
   "execution_count": 3,
   "id": "dd7686c0-bf16-4a1d-bbb1-51383b0e9dbb",
   "metadata": {
    "tags": []
   },
   "outputs": [
    {
     "name": "stdout",
     "output_type": "stream",
     "text": [
      "(x - 2.1)*(x - 0.1)*(x + 1.1)\n",
      "(x - 2.1)*(x - 0.1) + (x - 2.1)*(x + 1.1) + (x - 0.1)*(x + 1.1)\n"
     ]
    }
   ],
   "source": [
    "# Usando o pacote simbólico do Python para definir a função \n",
    "# e calcular sua derivada de maneira simbólica e transformar\n",
    "# numa função numérica\n",
    "\n",
    "import sympy as sym\n",
    "\n",
    "x = sym.symbols('x') \n",
    "\n",
    "f_expr = (x - 0.1)*(x - 2.1)*(x + 1.1) # symbolic expression for f(x) \n",
    "dfdx_expr = sym.diff(f_expr, x) # compute f’(x) symbolically \n",
    "\n",
    "print(f_expr)\n",
    "print(dfdx_expr)\n",
    "\n",
    "# turn f_expr and dfdx_expr into plain Python functions \n",
    "f = sym.lambdify([x], # argument to f \n",
    "                 f_expr) # symbolic expression to be evaluated \n",
    "\n",
    "dfdx = sym.lambdify([x], dfdx_expr) "
   ]
  },
  {
   "cell_type": "code",
   "execution_count": 7,
   "id": "276e9492-1e58-4f3c-a485-997442605c8e",
   "metadata": {
    "tags": []
   },
   "outputs": [
    {
     "name": "stdout",
     "output_type": "stream",
     "text": [
      "10.700999999999999 18.189999999999998\n",
      "x**3 - 1.1*x**2 - 2.21*x + 0.231\n",
      "3*x**2 - 2.2*x - 2.21\n"
     ]
    }
   ],
   "source": [
    "print(f(3), dfdx(3))\n",
    "print(sym.expand(f_expr))\n",
    "print(sym.expand(dfdx_expr))"
   ]
  },
  {
   "cell_type": "code",
   "execution_count": 8,
   "id": "231bda43-6e9a-4aed-962f-fab7f37b0ad8",
   "metadata": {
    "tags": []
   },
   "outputs": [
    {
     "data": {
      "image/png": "[encoded data removed]",
      "text/plain": [
       "<Figure size 640x480 with 1 Axes>"
      ]
     },
     "metadata": {},
     "output_type": "display_data"
    }
   ],
   "source": [
    "nplot = 200\n",
    "a = -2\n",
    "b = 3\n",
    " \n",
    "x = np.linspace(a,b,nplot)\n",
    "y = f(x)\n",
    "dy = dfdx(x)\n",
    "\n",
    "plt.plot(x,y,label='f')\n",
    "plt.plot(x,dy,label='df/dx')\n",
    "plt.legend(loc='upper right')\n",
    "plt.xticks(np.arange(a, b+1, 1.0))\n",
    "plt.xlim(a,b)\n",
    "plt.xlabel('x')\n",
    "plt.ylabel('y')\n",
    "plt.grid()\n",
    "plt.show()"
   ]
  },
  {
   "cell_type": "code",
   "execution_count": 9,
   "id": "f8621b91-0e0f-4068-9084-f193e80dbb57",
   "metadata": {
    "tags": []
   },
   "outputs": [
    {
     "name": "stdout",
     "output_type": "stream",
     "text": [
      "2.4117097306212205\n",
      "2.156962173183982\n",
      "2.1024623945180805\n",
      "2.1000049115007156\n",
      "2.1000049115007156\n"
     ]
    }
   ],
   "source": [
    "# Testando o Naive Newton para a função definida acima (a mesma\n",
    "# do método da bissecção\n",
    "\n",
    "x0 = 3.0\n",
    "solApprox = naive_Newton(f, dfdx, x0, 1.0e-4, debug=True)\n",
    "print(solApprox)"
   ]
  },
  {
   "cell_type": "code",
   "execution_count": 22,
   "id": "7410437f-8ae7-43a7-a972-3c8872502419",
   "metadata": {
    "tags": []
   },
   "outputs": [
    {
     "name": "stdout",
     "output_type": "stream",
     "text": [
      "1.0035813818515786\n",
      "-0.4888968252407817\n",
      "1.7433937951215295\n",
      "2.285685968916457\n",
      "2.122774942191575\n",
      "2.1004098653050622\n",
      "2.1000001364221688\n",
      "2.1000001364221688\n"
     ]
    }
   ],
   "source": [
    "#x0 = -0.4\n",
    "x0 = -0.447\n",
    "#x0 = -0.6\n",
    "solApprox = naive_Newton(f, dfdx, x0, 1.0e-4,debug=True)\n",
    "print(solApprox)"
   ]
  },
  {
   "cell_type": "code",
   "execution_count": null,
   "id": "7f878917-da38-4685-a1a1-01b4278abc9a",
   "metadata": {},
   "outputs": [],
   "source": []
  },
  {
   "cell_type": "markdown",
   "id": "9396c8b8-db8c-40f9-9a49-226f087f12f7",
   "metadata": {},
   "source": [
    "### Problema a vista!!! O Método de Newton pode falhar."
   ]
  },
  {
   "cell_type": "code",
   "execution_count": 23,
   "id": "c2a11fce-dfbe-4989-b75d-319690a6afee",
   "metadata": {
    "tags": []
   },
   "outputs": [
    {
     "name": "stdout",
     "output_type": "stream",
     "text": [
      "tanh(x)\n",
      "1 - tanh(x)**2\n"
     ]
    }
   ],
   "source": [
    "x = sym.symbols('x')\n",
    "\n",
    "f_expr = sym.tanh(x)\n",
    "dfdx_expr = sym.diff(f_expr, x)\n",
    "\n",
    "print(f_expr)\n",
    "print(dfdx_expr)\n",
    "\n",
    "f = sym.lambdify([x], f_expr) \n",
    "dfdx = sym.lambdify([x], dfdx_expr)"
   ]
  },
  {
   "cell_type": "code",
   "execution_count": 24,
   "id": "ed277c6a-2cf7-4c6a-82be-f877e6555d4a",
   "metadata": {
    "tags": []
   },
   "outputs": [
    {
     "data": {
      "image/png": "[encoded data removed]",
      "text/plain": [
       "<Figure size 640x480 with 1 Axes>"
      ]
     },
     "metadata": {},
     "output_type": "display_data"
    }
   ],
   "source": [
    "import numpy as np\n",
    "import matplotlib.pyplot as plt\n",
    "\n",
    "nplot = 200\n",
    "a = -5\n",
    "b = 5\n",
    " \n",
    "x = np.linspace(a,b,nplot)\n",
    "y = f(x)\n",
    "dy = dfdx(x)\n",
    "\n",
    "plt.plot(x,y,label='f')\n",
    "plt.plot(x,dy,label='df/dx')\n",
    "plt.legend(loc='upper right')\n",
    "plt.xticks(np.arange(a, b+1, 1.0))\n",
    "plt.xlim(a,b)\n",
    "plt.xlabel('x')\n",
    "plt.ylabel('y')\n",
    "plt.grid()\n",
    "plt.show()"
   ]
  },
  {
   "cell_type": "code",
   "execution_count": 32,
   "id": "b39af566-a3ae-4631-9f55-ca17d6d1585b",
   "metadata": {
    "tags": []
   },
   "outputs": [
    {
     "name": "stdout",
     "output_type": "stream",
     "text": [
      "-1.0933161820201083\n",
      "1.104903543244409\n",
      "-1.1461555078811896\n",
      "1.3030326182332865\n",
      "-2.064923002377556\n",
      "13.473142800576014\n",
      "-126055913647.13739\n",
      "inf\n",
      "nan\n",
      "nan\n"
     ]
    },
    {
     "name": "stderr",
     "output_type": "stream",
     "text": [
      "C:\\Users\\adrim\\AppData\\Local\\Temp\\ipykernel_2828\\2852368626.py:3: RuntimeWarning: divide by zero encountered in scalar divide\n",
      "  x = x - (f(x))/dfdx(x)\n",
      "C:\\Users\\adrim\\AppData\\Local\\Temp\\ipykernel_2828\\2852368626.py:3: RuntimeWarning: invalid value encountered in scalar subtract\n",
      "  x = x - (f(x))/dfdx(x)\n"
     ]
    }
   ],
   "source": [
    "# Para quais x0´s abaixo o método de Newton falha?\n",
    "\n",
    "#x0 = 1.07\n",
    "#x0 = 1.08\n",
    "x0 = 1.09\n",
    "\n",
    "solApprox = naive_Newton(f, dfdx, x0, 1.0e-4, debug=True)\n",
    "print(solApprox)"
   ]
  },
  {
   "cell_type": "markdown",
   "id": "c72bc3d2-1e7a-4cb1-9560-d7bffc1022e2",
   "metadata": {},
   "source": [
    "### Tomando cuidado com o problema da derivada se aproximar de zero"
   ]
  },
  {
   "cell_type": "code",
   "execution_count": 33,
   "id": "37186bcf-8662-4e0d-9c66-29cf2baf671f",
   "metadata": {
    "tags": []
   },
   "outputs": [],
   "source": [
    "import sys\n",
    "\n",
    "def Newton(f, dfdx, x, eps, debug=False):\n",
    "    \n",
    "    f_value = f(x)\n",
    "    iteration_counter = 0\n",
    "    \n",
    "    while abs(f_value) > eps and iteration_counter < 20:\n",
    "        \n",
    "        try:\n",
    "            div = f_value/dfdx(x)\n",
    "        except ZeroDivisionError:\n",
    "            print('Error! - derivative zero for x = ', x)\n",
    "            sys.exit(1)     # Abort with error\n",
    "        \n",
    "        x = x - div\n",
    "        \n",
    "        if debug:\n",
    "            print(x)\n",
    "            \n",
    "        f_value = f(x)\n",
    "        iteration_counter = iteration_counter + 1\n",
    "\n",
    "    # Here, either a solution is found, or too many iterations\n",
    "    if abs(f_value) > eps:\n",
    "        iteration_counter = -1\n",
    "    return x, iteration_counter"
   ]
  },
  {
   "cell_type": "code",
   "execution_count": 34,
   "id": "f165b9f5-8d6e-4f3c-a659-aaefec434ca7",
   "metadata": {
    "tags": []
   },
   "outputs": [
    {
     "name": "stdout",
     "output_type": "stream",
     "text": [
      "-1.0933161820201083\n",
      "1.104903543244409\n",
      "-1.1461555078811896\n",
      "1.3030326182332865\n",
      "-2.064923002377556\n",
      "13.473142800576014\n",
      "-126055913647.13739\n",
      "inf\n",
      "nan\n",
      "(nan, 9)\n"
     ]
    },
    {
     "name": "stderr",
     "output_type": "stream",
     "text": [
      "C:\\Users\\adrim\\AppData\\Local\\Temp\\ipykernel_2828\\3875822610.py:11: RuntimeWarning: divide by zero encountered in scalar divide\n",
      "  div = f_value/dfdx(x)\n",
      "C:\\Users\\adrim\\AppData\\Local\\Temp\\ipykernel_2828\\3875822610.py:16: RuntimeWarning: invalid value encountered in scalar subtract\n",
      "  x = x - div\n"
     ]
    }
   ],
   "source": [
    "#x0 = 1.07\n",
    "#x0 = 1.08\n",
    "x0 = 1.09\n",
    "\n",
    "solApprox = Newton(f, dfdx, x0, 1.0e-3, debug=True)\n",
    "print(solApprox)"
   ]
  },
  {
   "cell_type": "markdown",
   "id": "e92dfe65-1b1d-47ae-bbae-2796d1162ef4",
   "metadata": {},
   "source": [
    "### Mais um exemplo de falha e melhorando os critérios de convergência do método"
   ]
  },
  {
   "cell_type": "code",
   "execution_count": 35,
   "id": "7dc29933-e62e-4954-87be-d3cdc527322a",
   "metadata": {
    "tags": []
   },
   "outputs": [
    {
     "name": "stdout",
     "output_type": "stream",
     "text": [
      "x/(x**2 + 1)\n",
      "-2*x**2/(x**2 + 1)**2 + 1/(x**2 + 1)\n"
     ]
    }
   ],
   "source": [
    "x = sym.symbols('x')\n",
    "\n",
    "f_expr = x/(1+x*x)\n",
    "dfdx_expr = sym.diff(f_expr, x)\n",
    "\n",
    "print(f_expr)\n",
    "print(dfdx_expr)\n",
    "\n",
    "f = sym.lambdify([x], f_expr) \n",
    "dfdx = sym.lambdify([x], dfdx_expr)"
   ]
  },
  {
   "cell_type": "code",
   "execution_count": 36,
   "id": "ac461cf8-652a-4a2c-9724-b170a13c9710",
   "metadata": {
    "tags": []
   },
   "outputs": [
    {
     "data": {
      "image/png": "[encoded data removed]",
      "text/plain": [
       "<Figure size 640x480 with 1 Axes>"
      ]
     },
     "metadata": {},
     "output_type": "display_data"
    }
   ],
   "source": [
    "import numpy as np\n",
    "import matplotlib.pyplot as plt\n",
    "\n",
    "nplot = 400\n",
    "a = -10\n",
    "b = 10\n",
    " \n",
    "x = np.linspace(a,b,nplot)\n",
    "y = f(x)\n",
    "dy = dfdx(x)\n",
    "\n",
    "plt.plot(x,y,label='f')\n",
    "plt.plot(x,dy,label='df/dx')\n",
    "plt.legend(loc='upper right')\n",
    "plt.xticks(np.arange(a, b+1, 1.0))\n",
    "plt.xlim(a,b)\n",
    "plt.xlabel('x')\n",
    "plt.ylabel('y')\n",
    "plt.grid()\n",
    "plt.show()"
   ]
  },
  {
   "cell_type": "code",
   "execution_count": 37,
   "id": "9834fc07-af67-4d25-b5ed-3f6f075f305c",
   "metadata": {
    "tags": []
   },
   "outputs": [
    {
     "name": "stdout",
     "output_type": "stream",
     "text": [
      "16.908806073153887\n",
      "33.936308866114594\n",
      "67.9316028776399\n",
      "135.8926535145931\n",
      "271.8000253252568\n",
      "543.6074091011637\n",
      "1087.218497340497\n",
      "2174.4388342391844\n",
      "4348.878588256102\n",
      "8697.7576364009\n",
      "17395.51550274613\n",
      "(17395.51550274613, 11)\n"
     ]
    }
   ],
   "source": [
    "x0 = 1.07\n",
    "#x0 = 1.08\n",
    "#x0 = 1.09\n",
    "\n",
    "solApprox = Newton(f, dfdx, x0, 1.0e-4, debug=True)\n",
    "print(solApprox)"
   ]
  },
  {
   "cell_type": "code",
   "execution_count": 44,
   "id": "417c4e6f-8ed2-4ef7-9906-8dfe200925ae",
   "metadata": {
    "tags": []
   },
   "outputs": [],
   "source": [
    "def Newton(f, dfdx, x, eps1=1e-4, eps2=1e-4, maxit=20, debug=False):\n",
    "    \n",
    "    f_value = f(x)\n",
    "    iteration_counter = 0\n",
    "    \n",
    "    err = 10*eps2\n",
    "    \n",
    "    while (abs(f_value) > eps1) and (err > eps2) and (iteration_counter < maxit):\n",
    "        \n",
    "        try:\n",
    "            div = f_value/dfdx(x)\n",
    "        except ZeroDivisionError:\n",
    "            print('Error! - derivative zero for x = ', x)\n",
    "            sys.exit(1)     # Abort with error\n",
    "        \n",
    "        x = x - div\n",
    "        \n",
    "        err = abs(div/x)\n",
    "        \n",
    "        if debug:\n",
    "            print(x, err)\n",
    "            \n",
    "        f_value = f(x)\n",
    "        iteration_counter = iteration_counter + 1\n",
    "\n",
    "    # Here, either a solution is found, or too many iterations\n",
    "    if abs(f_value) > eps1 or err > eps2:\n",
    "        iteration_counter = -1\n",
    "    return x, iteration_counter"
   ]
  },
  {
   "cell_type": "code",
   "execution_count": 46,
   "id": "a9ab43ec-75a9-41fc-a858-eba7aa92924d",
   "metadata": {
    "tags": []
   },
   "outputs": [
    {
     "name": "stdout",
     "output_type": "stream",
     "text": [
      "-0.33333333333333326 2.5000000000000004\n",
      "0.08333333333333331 5.0\n",
      "-0.0011655011655011677 72.49999999999986\n",
      "3.166421473329087e-09 368082.49998925836\n",
      "(3.166421473329087e-09, -1)\n"
     ]
    }
   ],
   "source": [
    "#x0 = 1.07\n",
    "#x0 = 1.08\n",
    "#x0 = 1.09\n",
    "x0 = 0.5\n",
    "\n",
    "solApprox = Newton(f, dfdx, x0, eps1=1.0e-4, eps2=1.0e-4, debug=True)\n",
    "print(solApprox)"
   ]
  },
  {
   "cell_type": "markdown",
   "id": "fd5ec657-1f68-411b-8789-b32c2d8712c5",
   "metadata": {},
   "source": [
    "### Teorema da Convergência"
   ]
  },
  {
   "cell_type": "markdown",
   "id": "fff8f25b-fb46-4e10-9c56-c17ee5cc7ed6",
   "metadata": {},
   "source": [
    "Notas em sala de aula"
   ]
  },
  {
   "cell_type": "markdown",
   "id": "2e8f4e88-fa22-4b7e-a986-01ff048d5264",
   "metadata": {},
   "source": [
    "## Método da Secante"
   ]
  },
  {
   "cell_type": "markdown",
   "id": "ee915d1f-f166-4e83-a143-cc8f741ea4c8",
   "metadata": {},
   "source": [
    "Dado $x_0$ e $x_1$, consideremos as iterações\n",
    "$$\n",
    "x_k = x_{k-1} - \\dfrac{f(x_{k-1})}{ \\dfrac{f(x_{k-1}) - f(x_{k-2})}{x_{k-1} - x_{k-2}} },\n",
    "$$\n",
    "para $k = 2, 3, 4, \\ldots$."
   ]
  },
  {
   "cell_type": "code",
   "execution_count": 47,
   "id": "a9d3113a-fcd1-4aba-81ce-c00ecddd8fed",
   "metadata": {
    "tags": []
   },
   "outputs": [],
   "source": [
    "def secant(f, x0, x1, eps, debug=False):\n",
    "    f_x0 = f(x0)\n",
    "    f_x1 = f(x1)\n",
    "    iteration_counter = 0\n",
    "    while abs(f_x1) > eps and iteration_counter < 100:\n",
    "        try:\n",
    "            denominator = (f_x1 - f_x0)/(x1 - x0)\n",
    "            x = x1 - f_x1/denominator\n",
    "        except ZeroDivisionError:\n",
    "            print('Error! - denominator zero for x = ', x)\n",
    "            sys.exit(1)     # Abort with error\n",
    "        x0 = x1\n",
    "        x1 = x\n",
    "        f_x0 = f_x1\n",
    "        f_x1 = f(x1)\n",
    "        \n",
    "        if debug:\n",
    "            print(x)\n",
    "        \n",
    "        iteration_counter = iteration_counter + 1\n",
    "    \n",
    "    # Here, either a solution is found, or too many iterations\n",
    "    if abs(f_x1) > eps:\n",
    "        iteration_counter = -1\n",
    "    return x, iteration_counter"
   ]
  },
  {
   "cell_type": "code",
   "execution_count": 48,
   "id": "19eecf28-3262-495c-9fc3-43dbd9cb3676",
   "metadata": {
    "tags": []
   },
   "outputs": [
    {
     "name": "stdout",
     "output_type": "stream",
     "text": [
      "(x - 2.1)*(x - 0.1)*(x + 1.1)\n"
     ]
    }
   ],
   "source": [
    "x = sym.symbols('x') \n",
    "\n",
    "f_expr = (x - 0.1)*(x - 2.1)*(x + 1.1) # symbolic expression for f(x) \n",
    "\n",
    "print(f_expr)\n",
    "\n",
    "# turn f_expr and dfdx_expr into plain Python functions \n",
    "f = sym.lambdify([x], f_expr) "
   ]
  },
  {
   "cell_type": "code",
   "execution_count": 68,
   "id": "49fbb7f8-8c44-4dfc-9eb1-5e1554e6ab87",
   "metadata": {
    "tags": []
   },
   "outputs": [
    {
     "name": "stdout",
     "output_type": "stream",
     "text": [
      "2.261490683229814\n",
      "2.138887588207181\n",
      "2.104536519194257\n",
      "2.100139571920842\n",
      "2.1000005129631965\n",
      "(2.1000005129631965, 5)\n"
     ]
    }
   ],
   "source": [
    "x0 = 3.0\n",
    "x1 = 2.5\n",
    "solApprox = secant(f, x0, x1, 1.0e-4, debug=True)\n",
    "print(solApprox)"
   ]
  },
  {
   "cell_type": "markdown",
   "id": "9b8a2497-5000-4bdc-90b2-28e982d2c203",
   "metadata": {},
   "source": [
    "### Exercício: Modificar a função `secant` para realizar o critério de convergência do erro relativo da iteração."
   ]
  },
  {
   "cell_type": "code",
   "execution_count": null,
   "id": "ff66abbf-69c4-4d51-bf99-b0f0177e2c3a",
   "metadata": {},
   "outputs": [],
   "source": []
  }
 ],
 "metadata": {
  "kernelspec": {
   "display_name": "Python 3 (ipykernel)",
   "language": "python",
   "name": "python3"
  },
  "language_info": {
   "codemirror_mode": {
    "name": "ipython",
    "version": 3
   },
   "file_extension": ".py",
   "mimetype": "text/x-python",
   "name": "python",
   "nbconvert_exporter": "python",
   "pygments_lexer": "ipython3",
   "version": "3.11.4"
  }
 },
 "nbformat": 4,
 "nbformat_minor": 5
}
