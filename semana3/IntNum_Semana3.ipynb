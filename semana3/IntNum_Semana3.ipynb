{
 "cells": [
  {
   "cell_type": "markdown",
   "id": "a9e491bb-7dba-48ba-8f98-5998bdeec037",
   "metadata": {},
   "source": [
    "# Integração Numérica"
   ]
  },
  {
   "cell_type": "markdown",
   "id": "aeb6c3dc-44df-45e0-9fd3-1f622b0dd54a",
   "metadata": {},
   "source": [
    "#### baseado nas seções 6.2, 6.3 e 6.4 do livro \"Linge, Svein, and Langtangen, Hans Petter. Programming for Computations - Python: A Gentle Introduction to Numerical Simulations with Python 3.6\""
   ]
  },
  {
   "cell_type": "markdown",
   "id": "826be527-2e2b-4d36-9f40-8df618b1186c",
   "metadata": {},
   "source": [
    "> \"A desvantagem (aparente) de um método numérico é que ele só consegue encontrar uma resposta aproximada. Deixar o exato pelo aproximado é uma barreira mental no início, mas lembre-se que a maioria das aplicações reais de integração envolverá uma função $f(x)$ que contém parâmetros físicos, que são medidos com algum erro. Ou seja, $f(x)$ raramente é exato, e não faz sentido tentar calcular a integral com um erro menor que o já presente em $f(x)$\"\n",
    "\n",
    "> \"Outra vantagem dos métodos numéricos é que podemos integrar facilmente uma função $f(x)$ que só é conhecida como amostras, ou seja, valores discretos em alguns pontos $x$, e não como uma função contínua de $x$ expressa através de uma fórmula. Isto é altamente relevante quando $f$ é medido em um experimento físico\" (*Programming for Computations - Python: A Gentle Introduction to Numerical Simulations with Python 3.6*)"
   ]
  },
  {
   "cell_type": "markdown",
   "id": "03015d8b-f304-47d5-af00-ecae1d667993",
   "metadata": {},
   "source": [
    "## Ideia básica da Integração Numérica "
   ]
  },
  {
   "cell_type": "markdown",
   "id": "c620114a-0f62-40a5-a418-54cb3ff2e8d9",
   "metadata": {},
   "source": [
    "\\begin{equation}\n",
    "\\int_a^b f(x)~dx \\label{eq:int}\n",
    "\\end{equation}\n",
    "particionar o intervalo original $[a,b]$ em subintervalos menores, selecionando para isso **pontos de integração** $x_i$, $i = 0,1,\\ldots,n$ (com $x_0 = a$ e $x_n = b)$. Para o caso igualmente espaçado temos $$x_i = a + ih, \\quad i = 0,1,\\ldots,n,$$ com $$h = \\dfrac{b-a}{n}.$$\n",
    "\n",
    "A integral então pode ser expressa como\n",
    "\\begin{equation}\n",
    "\\int_a^b f(x)~dx = \\int_{x_0}^{x_1} f(x)~dx + \\int_{x_1}^{x_2} f(x)~dx + \\cdots + \\int_{x_{n-1}}^{x_n} f(x)~dx,\n",
    "\\end{equation}\n",
    "e como veremos os métodos de integração diferem na forma como eles aproximam os termos do lado direito, sendo a ideia principal de que sendo $[x_i, x_{i+1}]$ suficientemente pequeno faz sentido aproximar $f$ nesse subintervalo por funções mais simples como constante, afim, quadrática, etc que podem ser facilmente integradas. "
   ]
  },
  {
   "cell_type": "markdown",
   "id": "a8f4d8dc-7798-402d-9376-63c69959f548",
   "metadata": {},
   "source": [
    "### Exemplo analítico para validação"
   ]
  },
  {
   "cell_type": "code",
   "execution_count": 7,
   "id": "e6ca0f79-b839-4e7d-9bef-c5d9ad62fec9",
   "metadata": {
    "tags": []
   },
   "outputs": [
    {
     "data": {
      "image/png": "[encoded data removed]",
      "text/plain": [
       "<Figure size 640x480 with 1 Axes>"
      ]
     },
     "metadata": {},
     "output_type": "display_data"
    }
   ],
   "source": [
    "import numpy as np\n",
    "import matplotlib.pyplot as plt\n",
    "\n",
    "a = 0.0\n",
    "b = 1.0\n",
    "\n",
    "nplot = 50\n",
    " \n",
    "t = np.linspace(a,b,nplot)\n",
    "v = 3.0*(t**2)*np.exp(t**3)\n",
    "\n",
    "plt.plot(t,v)\n",
    "plt.xlim(0.0,1.0)\n",
    "plt.xlabel('t')\n",
    "plt.ylim(0.0,9.0)\n",
    "plt.ylabel('v')\n",
    "plt.fill_between(t,v, facecolor=\"g\", hatch=\"\\\\\", edgecolor=\"k\")\n",
    "plt.show()"
   ]
  },
  {
   "cell_type": "markdown",
   "id": "7223c7c9-be44-4665-8df5-c307b6a77e28",
   "metadata": {},
   "source": [
    "Nesse caso a integral $\\int_0^1 v(t)~dt$ com $v(t) = 3t^2e^{t^3}$ pode ser feita pela regra da substituição, dando $e-1$. Vamos usá-la para medir a precisão dos métodos."
   ]
  },
  {
   "cell_type": "markdown",
   "id": "f765023e-916f-40d4-a92f-cfdc539f0d2b",
   "metadata": {},
   "source": [
    "## Regra Trapezoidal Composta"
   ]
  },
  {
   "cell_type": "markdown",
   "id": "8bbe40ea-86bc-4f99-8e03-a881ed780d94",
   "metadata": {
    "tags": []
   },
   "source": [
    "Regra para aproximação por trapézios de mesma \"altura\":\n",
    "\n",
    "\\begin{align}\n",
    "\\int_a^b f(x)~dx &= \\int_{x_0}^{x_1} f(x)~dx + \\int_{x_1}^{x_2} f(x)~dx + \\cdots + \\int_{x_{n-1}}^{x_n} f(x)~dx, \\\\\n",
    "&\\approx h \\dfrac{f(x_0) + f(x_1)}{2} + h \\dfrac{f(x_1) + f(x_2)}{2} + \\cdots + h \\dfrac{f(x_{n-1}) + f(x_n)}{2}, \\\\\n",
    "&\\approx \\dfrac{h}{2} [f(x_0) + 2f(x_1) + 2f(x_2) + \\ldots + 2f(x_{n-1}) + f(x_n)].\n",
    "\\end{align}\n",
    "\n",
    "Ou na forma compacta\n",
    "\\begin{equation}\n",
    "\\int_a^b f(x)~dx \\approx h \\left[ \\dfrac{1}{2} f(x_0) + \\sum_{i=1}^{n-1} f(x_i) + \\dfrac{1}{2} f(x_n) \\right].\n",
    "\\end{equation}\n",
    "\n",
    "Portanto o que precisamos abstrair para ter um implementação geral do método? Pensando em termos de função, quais os argumentos que passaríamos para uma função em Python? "
   ]
  },
  {
   "cell_type": "code",
   "execution_count": 8,
   "id": "90831da0-1de9-44af-9ee6-704506a3e853",
   "metadata": {
    "tags": []
   },
   "outputs": [],
   "source": [
    "def trapezoidal(f, a, b, n): \n",
    "    h = (b-a)/n \n",
    "    f_sum = 0.0 \n",
    "    for i in range(1, n, 1): \n",
    "        x = a + i*h \n",
    "        f_sum = f_sum + f(x) \n",
    "    return h*(0.5*f(a) + f_sum + 0.5*f(b))"
   ]
  },
  {
   "cell_type": "code",
   "execution_count": 9,
   "id": "08c1b0e4-901d-4436-8484-1940cc284262",
   "metadata": {
    "tags": []
   },
   "outputs": [],
   "source": [
    "def trapezoidal2(f, a, b, n): \n",
    "    h = (b-a)/n \n",
    "    result = 0.5*f(a) + 0.5*f(b) \n",
    "    for i in range(1, n): \n",
    "        result += f(a + i*h) \n",
    "    return result*h"
   ]
  },
  {
   "cell_type": "code",
   "execution_count": 10,
   "id": "f82d5666-b726-45f8-a589-ad6fb090e2e3",
   "metadata": {
    "tags": []
   },
   "outputs": [
    {
     "name": "stdout",
     "output_type": "stream",
     "text": [
      "n=4: 1.9227167504675762, error: 0.204435\n",
      "relative error = 11.8976%\n"
     ]
    }
   ],
   "source": [
    "from math import exp\n",
    "\n",
    "# Atente para a definição de uma função lambda. Facilita a vida, principalmente quando queremos passar uma função como \n",
    "# argumento de uma função\n",
    "\n",
    "v = lambda t: 3*(t**2)*exp(t**3)\n",
    "\n",
    "n = 4\n",
    "numerical = trapezoidal(v, 0., 1., n)\n",
    "\n",
    "# Compare with exact result\n",
    "V = lambda t: exp(t**3)\n",
    "exact = V(1.) - V(0.)\n",
    "error = abs(exact - numerical)\n",
    "print('n={:d}: {:.16f}, error: {:g}'.format(n, numerical, error))\n",
    "print('relative error = {:g}%'.format((error/exact)*100))"
   ]
  },
  {
   "cell_type": "code",
   "execution_count": 11,
   "id": "43bb5b2a-4ee5-44ff-bfc7-b27280cbac82",
   "metadata": {
    "tags": []
   },
   "outputs": [
    {
     "name": "stdout",
     "output_type": "stream",
     "text": [
      "n=400: 1.7183030649495579, error: 2.12365e-05\n",
      "relative error = 0.00123591%\n"
     ]
    }
   ],
   "source": [
    "n = 400\n",
    "numerical = trapezoidal(v, 0., 1., n)\n",
    "error = abs(exact - numerical)\n",
    "print('n={:d}: {:.16f}, error: {:g}'.format(n, numerical, error))\n",
    "print('relative error = {:g}%'.format((error/exact)*100))"
   ]
  },
  {
   "cell_type": "markdown",
   "id": "5a9527b8-76b8-4678-be51-4df0a68ff345",
   "metadata": {},
   "source": [
    "#### Observação\n",
    "> O Jupyter Notebook é equivalente a uma sessão interativa, se quisermos usar nossa implementação em um programa, melhor é colocar as funções em um arquivo, neste caso `trapezoidal.py` "
   ]
  },
  {
   "cell_type": "markdown",
   "id": "7875263c-5303-4d7c-ac9f-5c2bfc7758e2",
   "metadata": {},
   "source": [
    "## Regra do Ponto Médio Composta"
   ]
  },
  {
   "cell_type": "markdown",
   "id": "f8043f9c-edb0-40e4-ab7d-ac1ff24a8558",
   "metadata": {},
   "source": [
    "Ao invés de aproximar cada sub-área por um trapézio, podemos aproximar por um retângulo tomando como altura o valor da função avaliada no **ponto médio** do sub-intervalo. Ficamos portanto com fórmula (para intervalos igualmente espaçados):\n",
    "\n",
    "\\begin{align}\n",
    "\\int_a^b f(x)~dx &= \\int_{x_0}^{x_1} f(x)~dx + \\int_{x_1}^{x_2} f(x)~dx + \\cdots + \\int_{x_{n-1}}^{x_n} f(x)~dx, \\\\\n",
    "&\\approx h f \\left( \\dfrac{x_0 + x_1}{2} \\right) +  h f \\left( \\dfrac{x_1 + x_2}{2} \\right) + \\cdots +  h f \\left( \\dfrac{x_{n-1} + x_n}{2} \\right), \\\\\n",
    "&\\approx h \\left( f \\left( \\dfrac{x_0 + x_1}{2} \\right) +  f \\left( \\dfrac{x_1 + x_2}{2} \\right) + \\cdots +  f \\left( \\dfrac{x_{n-1} + x_n}{2} \\right)  \\right).\n",
    "\\end{align}\n",
    "\n",
    "Ou na forma compacta\n",
    "\\begin{equation}\n",
    "\\int_a^b f(x)~dx \\approx h \\sum_{i=0}^{n-1} f(x_i),\n",
    "\\end{equation}\n",
    "com $x_i = \\left( a + \\frac{h}{2} \\right) + ih$ para $i = 0, \\ldots, n-1$."
   ]
  },
  {
   "cell_type": "markdown",
   "id": "3801248b-669a-4708-93e8-f6c9c27d8738",
   "metadata": {},
   "source": [
    "<div class=\"alert alert-block alert-danger\">\n",
    "    A implementação será colocada num arquivo <i>midpoint.py</i> para ser importada como um módulo.\n",
    "</div>"
   ]
  },
  {
   "cell_type": "code",
   "execution_count": 12,
   "id": "1c4c4cda-9337-4324-a716-e5151176e147",
   "metadata": {
    "tags": []
   },
   "outputs": [
    {
     "ename": "ModuleNotFoundError",
     "evalue": "No module named 'midpoint'",
     "output_type": "error",
     "traceback": [
      "\u001b[0;31m---------------------------------------------------------------------------\u001b[0m",
      "\u001b[0;31mModuleNotFoundError\u001b[0m                       Traceback (most recent call last)",
      "Cell \u001b[0;32mIn[12], line 1\u001b[0m\n\u001b[0;32m----> 1\u001b[0m \u001b[38;5;28;01mfrom\u001b[39;00m \u001b[38;5;21;01mmidpoint\u001b[39;00m \u001b[38;5;28;01mimport\u001b[39;00m midpoint\n\u001b[1;32m      2\u001b[0m n \u001b[38;5;241m=\u001b[39m \u001b[38;5;241m4\u001b[39m\n\u001b[1;32m      3\u001b[0m numerical \u001b[38;5;241m=\u001b[39m midpoint(v, \u001b[38;5;241m0.\u001b[39m, \u001b[38;5;241m1.\u001b[39m, n)\n",
      "\u001b[0;31mModuleNotFoundError\u001b[0m: No module named 'midpoint'"
     ]
    }
   ],
   "source": [
    "from midpoint import midpoint\n",
    "n = 4\n",
    "numerical = midpoint(v, 0., 1., n)\n",
    "error = abs(exact - numerical)\n",
    "print('n={:d}: {:.16f}, error: {:g}'.format(n, numerical, error))\n",
    "print('relative error = {:g}%'.format((error/exact)*100))"
   ]
  },
  {
   "cell_type": "markdown",
   "id": "e366c62f-4783-4c4f-8b37-a6883d1ea6ae",
   "metadata": {},
   "source": [
    "<div class=\"alert alert-block alert-info\">\n",
    "Observe que o erro relativo foi melhor na regra do ponto médio, apesar de geomatricamente parecer ser contra intuitivo (trapézios parecem aproximar melhor que retângulos) veremos o porque adiante. Na prática isso acaba não sendo tão significativo pois podemos usar um $n$ bem grande como $n = 10^5$ e obter um erro bem pequeno (da ordem de $10^{-10}$) bem rápido.\n",
    "</div>"
   ]
  },
  {
   "cell_type": "code",
   "execution_count": null,
   "id": "add36fee-ae3f-4ff5-9af7-9e344118f9d9",
   "metadata": {
    "tags": []
   },
   "outputs": [],
   "source": [
    "n = 10**5\n",
    "numerical = trapezoidal(v, 0., 1., n)\n",
    "error = abs(exact - numerical)\n",
    "print('n={:d}: {:.16f}, error: {:g}'.format(n, numerical, error))\n",
    "print('relative error = {:g}%'.format((error/exact)*100))"
   ]
  },
  {
   "cell_type": "markdown",
   "id": "195dcc25-eacf-44fd-9640-2495e082ef5b",
   "metadata": {},
   "source": [
    "## Vetorizando as funções (ganhando desempenho)"
   ]
  },
  {
   "cell_type": "markdown",
   "id": "f9ec7837-d005-4a58-858c-5edaade7db16",
   "metadata": {},
   "source": [
    "> A lição é clara, mesmo que uma função leve frações de segundos para executar, sempre tente vetorizar os *loops*. (*Adriano Côrtes, 2023*)"
   ]
  },
  {
   "cell_type": "markdown",
   "id": "5ba74202-8383-4954-8f89-740d81e2bef2",
   "metadata": {},
   "source": [
    "#### Vetorizando a regra do ponto médio"
   ]
  },
  {
   "cell_type": "code",
   "execution_count": null,
   "id": "0b9bffe2-bb0e-4854-97ae-2771a4205861",
   "metadata": {
    "tags": []
   },
   "outputs": [],
   "source": [
    "from numpy import linspace, sum, exp   \n",
    "\n",
    "# É fundamental você exportar a função exp acima, caso contrário a lambda function definida anteriormente \n",
    "# dará erro pois a função exp do módulo math não aceita arrays como argumento como já vimos\n",
    "\n",
    "def midpoint_vec(f, a, b, n):\n",
    "    h = (b-a)/n\n",
    "    x = linspace(a + h/2, b - h/2, n)\n",
    "    return h*sum(f(x))"
   ]
  },
  {
   "cell_type": "code",
   "execution_count": null,
   "id": "18171003-f347-437b-a097-44979682a203",
   "metadata": {
    "tags": []
   },
   "outputs": [
    {
     "name": "stdout",
     "output_type": "stream",
     "text": [
      "n=100: 1.7181119551669362, error: 0.000169873\n",
      "relative error = 0.00988623%\n",
      "-----------------\n",
      "Versão Vetorizada\n",
      "n=100: 1.7181119551669362, error: 0.000169873\n",
      "relative error = 0.00988623%\n"
     ]
    }
   ],
   "source": [
    "n = 100\n",
    "numerical = midpoint(v, 0., 1., n)\n",
    "error = abs(exact - numerical)\n",
    "print('n={:d}: {:.16f}, error: {:g}'.format(n, numerical, error))\n",
    "print('relative error = {:g}%'.format((error/exact)*100))\n",
    "\n",
    "print('-----------------')\n",
    "print('Versão Vetorizada')\n",
    "\n",
    "numerical = midpoint_vec(v, 0., 1., n)\n",
    "error = abs(exact - numerical)\n",
    "print('n={:d}: {:.16f}, error: {:g}'.format(n, numerical, error))\n",
    "print('relative error = {:g}%'.format((error/exact)*100))"
   ]
  },
  {
   "cell_type": "markdown",
   "id": "7ff834d5-2391-4ca0-8cc7-e803dc5ed9cc",
   "metadata": {},
   "source": [
    "#### Vetorizando a regra trapezoidal"
   ]
  },
  {
   "cell_type": "code",
   "execution_count": null,
   "id": "e832544b-ee57-47cc-ae03-7046a8b3f3d7",
   "metadata": {
    "tags": []
   },
   "outputs": [],
   "source": [
    "def trapezoidal_vec(f, a, b, n):\n",
    "    h = (b-a)/n\n",
    "    x = linspace(a, b, n+1)\n",
    "    s = sum(f(x)) - 0.5*f(a) - 0.5*f(b)\n",
    "    return h*s"
   ]
  },
  {
   "cell_type": "code",
   "execution_count": null,
   "id": "707ed3dc-fff9-4a60-bf1d-7a37b6bae432",
   "metadata": {
    "tags": []
   },
   "outputs": [
    {
     "name": "stdout",
     "output_type": "stream",
     "text": [
      "n=100: 1.7186215916047789, error: 0.000339763\n",
      "relative error = 0.0197734%\n",
      "-----------------\n",
      "Versão Vetorizada\n",
      "n=100: 1.7186215916047791, error: 0.000339763\n",
      "relative error = 0.0197734%\n"
     ]
    }
   ],
   "source": [
    "n = 100\n",
    "numerical = trapezoidal(v, 0., 1., n)\n",
    "error = abs(exact - numerical)\n",
    "print('n={:d}: {:.16f}, error: {:g}'.format(n, numerical, error))\n",
    "print('relative error = {:g}%'.format((error/exact)*100))\n",
    "\n",
    "print('-----------------')\n",
    "print('Versão Vetorizada')\n",
    "\n",
    "numerical = trapezoidal_vec(v, 0., 1., n)\n",
    "error = abs(exact - numerical)\n",
    "print('n={:d}: {:.16f}, error: {:g}'.format(n, numerical, error))\n",
    "print('relative error = {:g}%'.format((error/exact)*100))"
   ]
  },
  {
   "cell_type": "markdown",
   "id": "493e9474-f55f-4c7a-a408-f77b7e53794d",
   "metadata": {},
   "source": [
    "### Medindo o *speed up* ganho com a vetorização"
   ]
  },
  {
   "cell_type": "code",
   "execution_count": null,
   "id": "ff108541-fe9e-4550-b816-c902e8a0dbb2",
   "metadata": {
    "tags": []
   },
   "outputs": [],
   "source": [
    "import timeit"
   ]
  },
  {
   "cell_type": "code",
   "execution_count": null,
   "id": "9a119645-f687-4ae2-9bc7-c720174a7422",
   "metadata": {
    "tags": []
   },
   "outputs": [],
   "source": [
    "n = 10**6"
   ]
  },
  {
   "cell_type": "code",
   "execution_count": null,
   "id": "4c7762d6-2a8c-44dd-9ccf-b40fd9f46ecb",
   "metadata": {
    "tags": []
   },
   "outputs": [],
   "source": [
    "time_midpoint = %timeit -o midpoint(v, 0., 1., n)"
   ]
  },
  {
   "cell_type": "code",
   "execution_count": null,
   "id": "0917fd58-6e9b-4ed4-87ba-0b46354d9f99",
   "metadata": {
    "tags": []
   },
   "outputs": [],
   "source": [
    "print('Tempo: {:g} segundos'.format(time_midpoint.average))"
   ]
  },
  {
   "cell_type": "code",
   "execution_count": null,
   "id": "77d68551-47db-4202-b452-33ab9bbd4a35",
   "metadata": {
    "tags": []
   },
   "outputs": [],
   "source": [
    "time_midpoint_vec = %timeit -o midpoint_vec(v, 0., 1., n)"
   ]
  },
  {
   "cell_type": "code",
   "execution_count": null,
   "id": "7ef3ec05-3055-43db-a45d-1b77d13a82a2",
   "metadata": {
    "tags": []
   },
   "outputs": [],
   "source": [
    "print('Tempo: {:g} segundos'.format(time_midpoint_vec.average))"
   ]
  },
  {
   "cell_type": "code",
   "execution_count": null,
   "id": "546eef81-7f61-49ca-a0dc-e919195ca3c9",
   "metadata": {
    "tags": []
   },
   "outputs": [],
   "source": [
    "print('Fator de Eficiência: {:g}'.format(time_midpoint.average/time_midpoint_vec.average)) "
   ]
  },
  {
   "cell_type": "markdown",
   "id": "cb0eb6e0-1b54-47f8-8448-1e75754df82b",
   "metadata": {},
   "source": [
    "## Taxa de Convergência "
   ]
  },
  {
   "cell_type": "markdown",
   "id": "e27c4eb6-030c-4a84-a913-ba5ff4e87fd3",
   "metadata": {},
   "source": [
    "Já vimos nos exemplos anteriores nas células acima que ao aumentarmos o número de subintervalos o erro decresce, o que é plausível e esperado, porém a pergunta que podemos fazer é qual a velocidade dessa redução, ou seja, quão rápido o erro está decrescendo (assintoticamente falando).\n",
    "\n",
    "Como o parâmetro que podemos ajustar é $h$, procuramos um erro que seja função de $h$, como \n",
    "\n",
    "$$E(h) = Kh^r,$$\n",
    "\n",
    "onde $K$ é uma constante positiva e $r$ é a **taxa de convergência** (que obviamente dependerá do método em questão). Portanto, quanto maior $r$ mais rápido temos $E \\to 0$ quando $h \\to 0$. Dizemos nesse caso que o método é de **ordem $r$**.\n",
    "\n",
    "No caso específico da integração numérica, apesar de $h$ ser o que entra na fórmula matemática, no programa usamos o parâmetro $n$ (o número de subintervalos), portanto nesse caso é mais cômodo reparametrizar o erro para ser em função $n$. Com efeito, substituindo $h = (b-a)/n$ na expressão acima teremos, \n",
    "\n",
    "\\begin{align}\n",
    "E &= Kh^r, \\\\\n",
    "  &= K \\left(\\dfrac{b-a}{n} \\right)^r, \\\\\n",
    "  &= K (b-a)^r \\left(\\dfrac{1}{n} \\right)^r, \\\\\n",
    "  &= C n^{-r},\n",
    "\\end{align}\n",
    "\n",
    "onde $C = K (b-a)^r$, dando $$E(n) = Cn^{-r}.$$\n",
    "\n",
    "Para encontrar $r$ tendo-se um conjunto de dados, vamos passar o $\\log$ na expressão para termos \n",
    "\n",
    "$$\\log E(n) = \\log(Cn^{-r}) = -r\\log(n) + \\log(C),$$\n",
    "\n",
    "Assim teremos uma relação linear na escala $\\log$."
   ]
  },
  {
   "cell_type": "code",
   "execution_count": null,
   "id": "9e662e5e-748e-4b2b-870d-009292086c0b",
   "metadata": {
    "tags": []
   },
   "outputs": [
    {
     "data": {
      "image/png": "[encoded data removed]",
      "text/plain": [
       "<Figure size 640x480 with 1 Axes>"
      ]
     },
     "metadata": {},
     "output_type": "display_data"
    }
   ],
   "source": [
    "import numpy as np\n",
    "import matplotlib.pyplot as plt\n",
    "\n",
    "nerrors = range(3,16)\n",
    "errors_mid = []\n",
    "errors_trap = []\n",
    "\n",
    "for i in nerrors:\n",
    "    n = 2**i\n",
    "    \n",
    "    numerical_trap = trapezoidal_vec(v, 0., 1., n)\n",
    "    numerical_mid = midpoint_vec(v, 0., 1., n)\n",
    "    \n",
    "    error_trap = abs(exact - numerical_trap)\n",
    "    error_mid = abs(exact - numerical_mid)\n",
    "    \n",
    "    errors_trap.append(error_trap)\n",
    "    errors_mid.append(error_mid)\n",
    "    \n",
    "    \n",
    "errors_trap_log2 = np.log2(np.array(errors_trap))\n",
    "errors_mid_log2 = np.log2(np.array(errors_mid))\n",
    "\n",
    "\n",
    "plt.rc('text', usetex=True)\n",
    "plt.plot(np.array(nerrors), errors_trap_log2, label=r'$E_{trap}(n)$')\n",
    "plt.plot(np.array(nerrors), errors_mid_log2, label=r'$E_{mid}(n)$')\n",
    "plt.legend()\n",
    "plt.title('Erros dos métodos trapezoidal e ponto médio')\n",
    "plt.xlabel(r'$i$', fontsize=14)\n",
    "plt.ylabel(r'$\\log_2 E(n)$', fontsize=14)\n",
    "plt.show()"
   ]
  },
  {
   "cell_type": "code",
   "execution_count": null,
   "id": "f5c1deae-b372-4bcf-a406-08e76586d79a",
   "metadata": {
    "tags": []
   },
   "outputs": [
    {
     "name": "stdout",
     "output_type": "stream",
     "text": [
      "[-1.98924594 -1.99726774 -1.99931412 -1.99982835 -1.99995708 -1.99998927\n",
      " -1.99999732 -1.99999933 -1.99999983 -1.99999996 -1.99999998 -1.99999995]\n"
     ]
    }
   ],
   "source": [
    "est_r_trap = np.diff(errors_trap_log2)\n",
    "print(est_r_trap)"
   ]
  },
  {
   "cell_type": "code",
   "execution_count": null,
   "id": "74a236b7-7354-4170-b3cf-55d2eca7e1b7",
   "metadata": {
    "tags": []
   },
   "outputs": [
    {
     "name": "stdout",
     "output_type": "stream",
     "text": [
      "[-1.98114857 -1.9952165  -1.99879958 -1.99969961 -1.99992488 -1.99998122\n",
      " -1.99999531 -1.99999883 -1.99999971 -1.99999994 -2.         -2.0000001 ]\n"
     ]
    }
   ],
   "source": [
    "est_r_mid = np.diff(errors_mid_log2)\n",
    "print(est_r_mid)"
   ]
  },
  {
   "cell_type": "markdown",
   "id": "dc8f526f-e418-4853-aa1f-1efaab022e96",
   "metadata": {},
   "source": [
    "### Conclusão\n",
    "\n",
    "Podemos numericamente afirmar que ambos métodos de integração numérica são métodos de ordem 2, ou seja, $r=2$."
   ]
  },
  {
   "cell_type": "markdown",
   "id": "c47db058-a69e-4931-9a95-bd841301cdcf",
   "metadata": {},
   "source": [
    "## Teorema (Fórmula) de Taylor"
   ]
  },
  {
   "cell_type": "markdown",
   "id": "a59a1969-4ff4-4dbd-9cf0-dfc13a098381",
   "metadata": {},
   "source": [
    "Material e explicação em sala de aula"
   ]
  },
  {
   "cell_type": "markdown",
   "id": "d6270027-e54b-4d19-ad2f-8d14fa950487",
   "metadata": {},
   "source": [
    "## Teoria do erro para os métodos acima"
   ]
  },
  {
   "cell_type": "markdown",
   "id": "3f0e4f95-1a25-4267-b591-cde997b6ae56",
   "metadata": {},
   "source": [
    "Material e explicação em sala de aula"
   ]
  },
  {
   "cell_type": "code",
   "execution_count": null,
   "id": "dbc051f5-e5b5-498f-a165-4f9063d4949a",
   "metadata": {},
   "outputs": [],
   "source": []
  }
 ],
 "metadata": {
  "kernelspec": {
   "display_name": "Python 3 (ipykernel)",
   "language": "python",
   "name": "python3"
  },
  "language_info": {
   "codemirror_mode": {
    "name": "ipython",
    "version": 3
   },
   "file_extension": ".py",
   "mimetype": "text/x-python",
   "name": "python",
   "nbconvert_exporter": "python",
   "pygments_lexer": "ipython3",
   "version": "3.10.12"
  }
 },
 "nbformat": 4,
 "nbformat_minor": 5
}
