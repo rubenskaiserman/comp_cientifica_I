{
 "cells": [
  {
   "cell_type": "markdown",
   "id": "819366b2-efde-456b-b632-40ee503c136c",
   "metadata": {},
   "source": [
    "# Computação Científica 1 - 2023.2 - Prof. Adriano Côrtes"
   ]
  },
  {
   "cell_type": "markdown",
   "id": "129ed291-1fac-437e-8e66-e1f89594c8bc",
   "metadata": {
    "tags": []
   },
   "source": [
    "## Teste 1"
   ]
  },
  {
   "cell_type": "markdown",
   "id": "8ad0a842-4b99-46f0-8cf1-0d69c4ccf2fb",
   "metadata": {},
   "source": [
    "***"
   ]
  },
  {
   "cell_type": "markdown",
   "id": "572bac71-067a-412d-98e4-c9ae6d06429b",
   "metadata": {},
   "source": [
    "### Questão 1\n",
    "Explique o comportamento (surpreendente?) do código abaixo"
   ]
  },
  {
   "cell_type": "code",
   "execution_count": 2,
   "id": "9cef38e8-60ba-4d7c-a13a-cc354e0848a6",
   "metadata": {
    "tags": []
   },
   "outputs": [
    {
     "data": {
      "text/plain": [
       "16.88210319127114"
      ]
     },
     "execution_count": 2,
     "metadata": {},
     "output_type": "execute_result"
    }
   ],
   "source": [
    "d = 8\n",
    "e = 2\n",
    "from math import *\n",
    "sqrt(d ** e)\n",
    "\n",
    "\n",
    "# sqrt(64)\n",
    "# d ** e\n",
    "# e\n",
    "# sqrt(d ** 2.718281828459045)"
   ]
  },
  {
   "cell_type": "markdown",
   "id": "11167731",
   "metadata": {},
   "source": [
    "## Resposta: \n",
    "\"e\" foi interpretado como número de euler e não como variável com valor 2"
   ]
  },
  {
   "cell_type": "markdown",
   "id": "920b7bef-6265-4fb6-a12d-c54c2158de43",
   "metadata": {},
   "source": [
    "***"
   ]
  },
  {
   "cell_type": "markdown",
   "id": "1bf62f1f-2283-448d-929f-3d8cae6769e1",
   "metadata": {
    "tags": []
   },
   "source": [
    "### Questão 2\n",
    "Como sabemos números reais são representados no computador por números de precisão finita, os números em ponto-flutuante. No Python, assim como na maioria das outras linguagens de programação predomina o padrão IEEE-754, em particular a representação em precisão dupla (*double precision*) é o default em Python. Podemos investigar essas informações por meio do módulo `sys`. Essas informações estão atributo `sys.float_info`:"
   ]
  },
  {
   "cell_type": "code",
   "execution_count": 3,
   "id": "0b698456-58bf-47fe-8ca0-ff5749d050e7",
   "metadata": {
    "tags": []
   },
   "outputs": [
    {
     "name": "stdout",
     "output_type": "stream",
     "text": [
      "sys.float_info(max=1.7976931348623157e+308, max_exp=1024, max_10_exp=308, min=2.2250738585072014e-308, min_exp=-1021, min_10_exp=-307, dig=15, mant_dig=53, epsilon=2.220446049250313e-16, radix=2, rounds=1)\n",
      "O menor número representável em ponto-flutuante de precisão dupla é 2.2250738585072014e-308\n",
      "O maior número representável em ponto-flutuante de precisão dupla é 1.7976931348623157e+308\n"
     ]
    }
   ],
   "source": [
    "import sys\n",
    "print(sys.float_info)\n",
    "print(f'O menor número representável em ponto-flutuante de precisão dupla é {sys.float_info.min}')\n",
    "print(f'O maior número representável em ponto-flutuante de precisão dupla é {sys.float_info.max}')"
   ]
  },
  {
   "cell_type": "markdown",
   "id": "4c17553a-12f8-48d5-a344-4e923c86b0e4",
   "metadata": {},
   "source": [
    "1. O que acontece se você tentar avaliar a expressão $e^{1000}$ que gera um número maior que o maior número representável?\n",
    "2. Como você calcularia a hipotenusa $c$ de um triângulo retângulo cujos catetos são $a = 1.5 \\times 10^{200}$ e $b = 3.5 \\times 10^{201}$? **Note que calcular $a^2$ e $b^2$ não é uma opção, como no item anterior**. Verifique seu resultado usando a função `math.hypot`"
   ]
  },
  {
   "cell_type": "code",
   "execution_count": 4,
   "id": "db3c0168",
   "metadata": {},
   "outputs": [],
   "source": [
    "# e ** 1000"
   ]
  },
  {
   "cell_type": "markdown",
   "id": "c3423753",
   "metadata": {},
   "source": [
    "## Respostas\n",
    "1. OverflowError: (34, 'Numerical result out of range')\n",
    "\n",
    "2. Assim, talvez, mas só talvez mesmo, olhar pra proporção não seja uma ideia ruim, taligado. Tipo, um triangulo de catetos 1.5 * 10^200 e b = 35 * 10^200 esteja aumentado em 10^200.\n",
    "Portanto se eu calcular sqrt((1.5 ** 2 +  35 ** 2))* 10 ** 200 seja uma ideia melhor. No geral 10 ** 200 não é um número agradável, então vejamos se é cálculável."
   ]
  },
  {
   "cell_type": "code",
   "execution_count": 5,
   "id": "977cf85c",
   "metadata": {},
   "outputs": [
    {
     "data": {
      "text/plain": [
       "3.503212811120672e+201"
      ]
     },
     "execution_count": 5,
     "metadata": {},
     "output_type": "execute_result"
    }
   ],
   "source": [
    "sqrt((1.5 ** 2 + 35 ** 2)) * 10 ** 200"
   ]
  },
  {
   "cell_type": "code",
   "execution_count": 6,
   "id": "b41335e1",
   "metadata": {},
   "outputs": [
    {
     "data": {
      "text/plain": [
       "3.503212811120672e+201"
      ]
     },
     "execution_count": 6,
     "metadata": {},
     "output_type": "execute_result"
    }
   ],
   "source": [
    "import math\n",
    "\n",
    "math.hypot(1.5 * 10 ** 200, 3.5 * 10 ** 201)"
   ]
  },
  {
   "cell_type": "markdown",
   "id": "50aa6787-ea55-45a2-b1a6-ab5b9e6ba262",
   "metadata": {},
   "source": [
    "***"
   ]
  },
  {
   "cell_type": "markdown",
   "id": "a89ef501-cab8-4b41-aaf1-8bef1cfb85c1",
   "metadata": {},
   "source": [
    "***"
   ]
  },
  {
   "cell_type": "markdown",
   "id": "2de18d9d-86f3-4485-8f41-9a8793e7624a",
   "metadata": {
    "tags": []
   },
   "source": [
    "### Questão 3\n",
    "Usando uma tupla de strings com o nome dos dígitos de $0$ a $9$, crie um trecho de código em Python que imprima até a sétima casas decimais de $\\pi$ na forma de texto, como:\n",
    "\n",
    "`três ponto um quatro um cinco nove dois seis`"
   ]
  },
  {
   "cell_type": "code",
   "execution_count": 10,
   "id": "fda3502d",
   "metadata": {},
   "outputs": [
    {
     "name": "stdout",
     "output_type": "stream",
     "text": [
      "tres ponto um quatro um cinco nove dois seis "
     ]
    }
   ],
   "source": [
    "numbers = (\n",
    "    \"zero\",\n",
    "    \"um\",\n",
    "    \"dois\",\n",
    "    \"tres\",\n",
    "    \"quatro\",\n",
    "    \"cinco\",\n",
    "    \"seis\",\n",
    "    \"sete\",\n",
    "    \"oito\",\n",
    "    \"nove\"\n",
    ")\n",
    "\n",
    "print(\"tres ponto\", end=\" \")\n",
    "for i in range(1, 8):\n",
    "    index = floor(pi * 10 ** i) - floor(pi * 10 ** (i - 1))*10\n",
    "    print(numbers[index], end=\" \")"
   ]
  },
  {
   "cell_type": "markdown",
   "id": "88a9dbba-7afd-4822-b1cd-eae1f65f42c1",
   "metadata": {},
   "source": [
    "***"
   ]
  },
  {
   "cell_type": "markdown",
   "id": "3236585d-097a-4ad4-a732-bab19db5610d",
   "metadata": {},
   "source": [
    "### Questão 4\n",
    "Escreva um trecho que código Python que imprima de maneira formatada (bonitinha) as oito primeiro linhas do triângulo de Pascal."
   ]
  },
  {
   "cell_type": "markdown",
   "id": "f797c81b-a92c-4b26-9ca5-33e5f52c6a46",
   "metadata": {},
   "source": [
    "***"
   ]
  },
  {
   "cell_type": "code",
   "execution_count": null,
   "id": "2aba783a",
   "metadata": {},
   "outputs": [
    {
     "name": "stdout",
     "output_type": "stream",
     "text": [
      "         1\n",
      "        1 1\n",
      "       1 2 1\n",
      "      1 3 3 1\n",
      "     1 4 6 4 1\n",
      "    1 5 10 10 5 1\n",
      "   1 6 15 20 15 6 1\n",
      "  1 7 21 35 35 21 7 1\n"
     ]
    }
   ],
   "source": [
    "for i in range(1, 8 +1):\n",
    "    for j in range(0, 8 -i+1):\n",
    "        print(' ', end='')\n",
    "    item = 1\n",
    "    for j in range(1, i+1):\n",
    "        print(' ', item, sep='', end='')\n",
    "        item = item * (i - j) // j\n",
    "    print()"
   ]
  },
  {
   "cell_type": "markdown",
   "id": "1c6fd61e-1eff-499b-936c-25ebeecc244c",
   "metadata": {},
   "source": [
    "### Questão 5\n",
    "1. Crie uma função que receba como entrada um número inteiro $N$ e retorna uma lista com os primeiros $N$ números de Fibonacci.\n",
    "2. A chamada [*lei de Benford*](https://pt.wikipedia.org/wiki/Lei_de_Benford) é uma lei baseada na observação sobre a frequência do primeiro dígito $d \\in \\{1,2,\\ldots,9\\}$ de uma determinada coleção de números (*data sets*). Segundo essa lei a distribuição logaritmica, portanto não-uniforme, dada por $$P(d) = \\log_{10} \\left( \\dfrac{d+1}{d} \\right),$$ ou seja, número começando com $1$ são mais frequentes que os começando com $2$, e assim em diante, com efeito temos aproximadamente\n",
    "\n",
    "| $d$ | $P(d)$ |\n",
    "|-----|--------|\n",
    "|1    | 0.301  |\n",
    "|2    | 0.176  |\n",
    "|3    | 0.125  |\n",
    "|4    | 0.097  |\n",
    "|5    | 0.079  |\n",
    "|6    | 0.067  |\n",
    "|7    | 0.058  |\n",
    "|8    | 0.051  |\n",
    "|9    | 0.046  |\n",
    "\n",
    "Usando a função criada no item anterior calcule a distribuição dos primeiros dígitos da sequência de Fibonacci para $N=500$ e $N=1000$, e avalie se ela segue a lei de Benford."
   ]
  },
  {
   "cell_type": "markdown",
   "id": "c498c212-85dc-40df-894f-b3fa60f0024e",
   "metadata": {},
   "source": [
    "***"
   ]
  },
  {
   "cell_type": "code",
   "execution_count": null,
   "id": "10326666",
   "metadata": {},
   "outputs": [
    {
     "name": "stdout",
     "output_type": "stream",
     "text": [
      "[1, 1, 2, 3, 5, 8, 13, 21, 34, 55, 89, 144, 233, 377, 610, 987, 1597, 2584, 4181, 6765, 10946, 17711, 28657, 46368, 75025, 121393, 196418, 317811, 514229, 832040, 1346269, 2178309, 3524578, 5702887, 9227465, 14930352, 24157817, 39088169, 63245986, 102334155, 165580141, 267914296, 433494437, 701408733, 1134903170, 1836311903, 2971215073, 4807526976, 7778742049, 12586269025, 20365011074]\n"
     ]
    }
   ],
   "source": [
    "def fibonacci(n: int):\n",
    "    s = [1, 1]\n",
    "    for i in range(1, n):\n",
    "        s.append(s[i] + s[i-1])\n",
    "    \n",
    "    return s\n",
    "\n",
    "print(fibonacci(50))"
   ]
  },
  {
   "cell_type": "code",
   "execution_count": null,
   "id": "e552135b",
   "metadata": {},
   "outputs": [
    {
     "name": "stdout",
     "output_type": "stream",
     "text": [
      "Distribution Fibonacci 500: \n",
      "1: 0.301\n",
      "2: 0.178\n",
      "3: 0.126\n",
      "4: 0.094\n",
      "5: 0.080\n",
      "6: 0.066\n",
      "7: 0.058\n",
      "8: 0.054\n",
      "9: 0.044\n",
      "Distribution Fibonacci 1000: \n",
      "1: 0.301\n",
      "2: 0.177\n",
      "3: 0.125\n",
      "4: 0.096\n",
      "5: 0.080\n",
      "6: 0.067\n",
      "7: 0.057\n",
      "8: 0.053\n",
      "9: 0.045\n"
     ]
    }
   ],
   "source": [
    "fibonacci_500 = fibonacci(500)\n",
    "fibonacci_1000 = fibonacci(1000)\n",
    "\n",
    "distribution_500 = [0] * 9\n",
    "\n",
    "for element in fibonacci_500:\n",
    "    distribution_500[int(str(element)[0]) -1 ] += 1\n",
    "    \n",
    "distribution_500 = [element / len(fibonacci_500) for element in distribution_500]\n",
    "\n",
    "distribution_1000 = [0] * 9\n",
    "for element in fibonacci_1000:\n",
    "    distribution_1000[int(str(element)[0]) -1 ] += 1\n",
    "\n",
    "distribution_1000 = [element / len(fibonacci_1000) for element in distribution_1000]\n",
    "\n",
    "print(\"Distribution Fibonacci 500: \")\n",
    "for i in range(9):\n",
    "    print(f'{i+1}: {distribution_500[i]:.3f}')\n",
    "    \n",
    "print(\"Distribution Fibonacci 1000: \")\n",
    "for i in range(9):\n",
    "    print(f'{i+1}: {distribution_1000[i]:.3f}')"
   ]
  },
  {
   "cell_type": "markdown",
   "id": "aeeb1b0e",
   "metadata": {},
   "source": [
    "## Resposta\n",
    "#### Caracas a Lei de Benford marcou bonitinho, vish.\n",
    "\n",
    "- Ta ali quase igual. +/- 0.001 de erro.\n",
    "- Pessoalmente acho meio estupida essas avaliações de ocorrências de números e tal. Mas bacana isso. Acertou bonitinho."
   ]
  },
  {
   "cell_type": "markdown",
   "id": "0b700d9a-a6db-48d6-a78e-1aed8bd8d805",
   "metadata": {},
   "source": [
    "### Questão 6\n",
    "Escreva um loop usando `while` para calcular a [média aritmética-geometrica](https://en.wikipedia.org/wiki/Arithmetic%E2%80%93geometric_mean) (AGM) de dois números reais positivos, $x$ e $y$, definida como o limite das sequência:\n",
    "\n",
    "$$ \n",
    "\\begin{align}\n",
    "a_{n+1} &= \\frac{1}{2} (a_n + g_n), \\\\\n",
    "g_{n+1} &= \\sqrt{a_n g_n},\n",
    "\\end{align}\n",
    "$$\n",
    "\n",
    "começando com $a_0 = x$ e $g_0 = y$. Ambas as sequências convergem para o mesmo número, denotado por $\\textrm{agm}(x,y)$. Use sua implementação para calcular a constante de *Gauss*, $G = 1/\\textrm{agm}(1,\\sqrt{2})$.\n",
    "\n",
    "**Importante:** Você terá que usar um critério de parada para iteração. "
   ]
  },
  {
   "cell_type": "markdown",
   "id": "7cb4cb89-8222-4e73-afa1-223b38f64b41",
   "metadata": {},
   "source": [
    "***"
   ]
  },
  {
   "cell_type": "code",
   "execution_count": null,
   "id": "d92c8eb6",
   "metadata": {},
   "outputs": [
    {
     "name": "stdout",
     "output_type": "stream",
     "text": [
      "Constante de Gauss:  0.8346268416740731\n"
     ]
    }
   ],
   "source": [
    "a = sqrt(2)\n",
    "g = 1\n",
    "\n",
    "def agm(a, g):\n",
    "    epsilon = 0.0000000000000000000000001\n",
    "    \n",
    "    while (a - g >= epsilon):\n",
    "        r = a\n",
    "        a = (a + g) / 2\n",
    "        g = sqrt(r * g)\n",
    "        \n",
    "        s = (1/a)\n",
    "        \n",
    "    return s\n",
    "    \n",
    "print(\"Constante de Gauss: \", agm(a, g))"
   ]
  }
 ],
 "metadata": {
  "kernelspec": {
   "display_name": "Python 3 (ipykernel)",
   "language": "python",
   "name": "python3"
  },
  "language_info": {
   "codemirror_mode": {
    "name": "ipython",
    "version": 3
   },
   "file_extension": ".py",
   "mimetype": "text/x-python",
   "name": "python",
   "nbconvert_exporter": "python",
   "pygments_lexer": "ipython3",
   "version": "3.10.12"
  }
 },
 "nbformat": 4,
 "nbformat_minor": 5
}
